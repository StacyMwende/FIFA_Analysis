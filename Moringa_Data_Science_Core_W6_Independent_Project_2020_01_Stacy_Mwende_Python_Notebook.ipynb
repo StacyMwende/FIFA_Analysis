{
  "nbformat": 4,
  "nbformat_minor": 0,
  "metadata": {
    "colab": {
      "name": "Moringa_Data_Science_Core_W6_Independent_Project_2020_01_Stacy_Mwende_Python_Notebook.ipynb",
      "provenance": [],
      "toc_visible": true,
      "authorship_tag": "ABX9TyOMmG3kIfDqzZPammLZ5Slp",
      "include_colab_link": true
    },
    "kernelspec": {
      "name": "python3",
      "display_name": "Python 3"
    }
  },
  "cells": [
    {
      "cell_type": "markdown",
      "metadata": {
        "id": "view-in-github",
        "colab_type": "text"
      },
      "source": [
        "<a href=\"https://colab.research.google.com/github/StacyMwende/Week_6_IP_FIFA_Analysis/blob/master/Moringa_Data_Science_Core_W6_Independent_Project_2020_01_Stacy_Mwende_Python_Notebook.ipynb\" target=\"_parent\"><img src=\"https://colab.research.google.com/assets/colab-badge.svg\" alt=\"Open In Colab\"/></a>"
      ]
    },
    {
      "cell_type": "markdown",
      "metadata": {
        "id": "n2lOe3Fadd8p",
        "colab_type": "text"
      },
      "source": [
        "# 1.Defining the question"
      ]
    },
    {
      "cell_type": "markdown",
      "metadata": {
        "id": "Oh7trk0IdZ7V",
        "colab_type": "text"
      },
      "source": [
        "# Importing libraries"
      ]
    },
    {
      "cell_type": "code",
      "metadata": {
        "id": "Cb1zne82wX8l",
        "colab_type": "code",
        "colab": {}
      },
      "source": [
        "import pandas as pd\n",
        "import numpy as np\n",
        "import seaborn as sb\n",
        "import matplotlib.pyplot as plt\n",
        "from sklearn.model_selection import train_test_split, GridSearchCV, KFold, cross_val_score\n",
        "from sklearn.model_selection import train_test_split, GridSearchCV, KFold, cross_val_score\n",
        "from sklearn.linear_model import LinearRegression, LogisticRegression\n",
        "from sklearn.metrics import mean_squared_error, accuracy_score, f1_score, confusion_matrix\n",
        "%matplotlib inline\n",
        "import warnings\n",
        "warnings.filterwarnings('ignore')\n",
        "import seaborn as sns\n",
        "import datetime as dt\n",
        "from sklearn.preprocessing import StandardScaler, PolynomialFeatures\n",
        "import scipy as sp"
      ],
      "execution_count": 0,
      "outputs": []
    },
    {
      "cell_type": "markdown",
      "metadata": {
        "id": "A_Qqo8xRdqgi",
        "colab_type": "text"
      },
      "source": [
        "# a) Specifying the question"
      ]
    },
    {
      "cell_type": "markdown",
      "metadata": {
        "id": "sNwu6SQ4dm3n",
        "colab_type": "text"
      },
      "source": [
        "You have been recruited as a football analyst in a company, Mchezopesa Ltd and tasked to predict the result of a game between team 1 and team 2, based on who's home and who's away, and on whether or not the game is friendly."
      ]
    },
    {
      "cell_type": "markdown",
      "metadata": {
        "id": "jE3Xn4Ogduh3",
        "colab_type": "text"
      },
      "source": [
        "# b) Defining the Metric for Success"
      ]
    },
    {
      "cell_type": "markdown",
      "metadata": {
        "id": "muUhZ26id4Wr",
        "colab_type": "text"
      },
      "source": [
        "The success of the project will be achived when we correctly develop a model that is able to predict result of a such correctly in a such a way that suh a model will be used at the time when ranking needs to be done."
      ]
    },
    {
      "cell_type": "markdown",
      "metadata": {
        "id": "89dkCb04eM_L",
        "colab_type": "text"
      },
      "source": [
        "# c) Recording the Experimental Design"
      ]
    },
    {
      "cell_type": "markdown",
      "metadata": {
        "id": "8CuqMsJCeHqc",
        "colab_type": "text"
      },
      "source": [
        "To have a clear flow of my work, i used CRISP-DM which includes:Business Understanding,Data Understanding,Data Preparation,Modeling,Evaluation,Model deployment."
      ]
    },
    {
      "cell_type": "markdown",
      "metadata": {
        "id": "CS9oqNqHesTu",
        "colab_type": "text"
      },
      "source": [
        "# Data Relevance"
      ]
    },
    {
      "cell_type": "markdown",
      "metadata": {
        "id": "Uw0tp6Lgebp5",
        "colab_type": "text"
      },
      "source": [
        "Main objective of the research is to predict the results between 2 teams where out main focus is whether the team was a home team or away team, type of game played and also the ranking which is well represented in the dataset. Hence the data provided for analysis is good for analysis and prediction"
      ]
    },
    {
      "cell_type": "markdown",
      "metadata": {
        "id": "aki5xR--exC4",
        "colab_type": "text"
      },
      "source": [
        "# 2.Reading the dataset"
      ]
    },
    {
      "cell_type": "markdown",
      "metadata": {
        "id": "247qhUpOw-8Q",
        "colab_type": "text"
      },
      "source": [
        "# Loading the dataset 1(Fifa_ranking)"
      ]
    },
    {
      "cell_type": "code",
      "metadata": {
        "id": "8refdXG3doC9",
        "colab_type": "code",
        "colab": {}
      },
      "source": [
        ""
      ],
      "execution_count": 0,
      "outputs": []
    },
    {
      "cell_type": "markdown",
      "metadata": {
        "id": "IMU7Me1ZxMLy",
        "colab_type": "text"
      },
      "source": [
        "Dataset 1 (Fifa Ranking)"
      ]
    },
    {
      "cell_type": "code",
      "metadata": {
        "id": "AD0DgF-wwnxC",
        "colab_type": "code",
        "outputId": "a848f0a1-c824-4e1f-d44e-599368747584",
        "colab": {
          "base_uri": "https://localhost:8080/",
          "height": 292
        }
      },
      "source": [
        "df_rank = pd.read_csv(\"Fifa_ranking.csv\")\n",
        "df_rank.head()"
      ],
      "execution_count": 0,
      "outputs": [
        {
          "output_type": "execute_result",
          "data": {
            "text/html": [
              "<div>\n",
              "<style scoped>\n",
              "    .dataframe tbody tr th:only-of-type {\n",
              "        vertical-align: middle;\n",
              "    }\n",
              "\n",
              "    .dataframe tbody tr th {\n",
              "        vertical-align: top;\n",
              "    }\n",
              "\n",
              "    .dataframe thead th {\n",
              "        text-align: right;\n",
              "    }\n",
              "</style>\n",
              "<table border=\"1\" class=\"dataframe\">\n",
              "  <thead>\n",
              "    <tr style=\"text-align: right;\">\n",
              "      <th></th>\n",
              "      <th>rank</th>\n",
              "      <th>country_full</th>\n",
              "      <th>country_abrv</th>\n",
              "      <th>total_points</th>\n",
              "      <th>previous_points</th>\n",
              "      <th>rank_change</th>\n",
              "      <th>cur_year_avg</th>\n",
              "      <th>cur_year_avg_weighted</th>\n",
              "      <th>last_year_avg</th>\n",
              "      <th>last_year_avg_weighted</th>\n",
              "      <th>two_year_ago_avg</th>\n",
              "      <th>two_year_ago_weighted</th>\n",
              "      <th>three_year_ago_avg</th>\n",
              "      <th>three_year_ago_weighted</th>\n",
              "      <th>confederation</th>\n",
              "      <th>rank_date</th>\n",
              "    </tr>\n",
              "  </thead>\n",
              "  <tbody>\n",
              "    <tr>\n",
              "      <th>0</th>\n",
              "      <td>1</td>\n",
              "      <td>Germany</td>\n",
              "      <td>GER</td>\n",
              "      <td>0.0</td>\n",
              "      <td>57.0</td>\n",
              "      <td>0.0</td>\n",
              "      <td>0.0</td>\n",
              "      <td>0.0</td>\n",
              "      <td>0.0</td>\n",
              "      <td>0.0</td>\n",
              "      <td>0.0</td>\n",
              "      <td>0.0</td>\n",
              "      <td>0.0</td>\n",
              "      <td>0.0</td>\n",
              "      <td>UEFA</td>\n",
              "      <td>1993-08-08</td>\n",
              "    </tr>\n",
              "    <tr>\n",
              "      <th>1</th>\n",
              "      <td>2</td>\n",
              "      <td>Italy</td>\n",
              "      <td>ITA</td>\n",
              "      <td>0.0</td>\n",
              "      <td>57.0</td>\n",
              "      <td>0.0</td>\n",
              "      <td>0.0</td>\n",
              "      <td>0.0</td>\n",
              "      <td>0.0</td>\n",
              "      <td>0.0</td>\n",
              "      <td>0.0</td>\n",
              "      <td>0.0</td>\n",
              "      <td>0.0</td>\n",
              "      <td>0.0</td>\n",
              "      <td>UEFA</td>\n",
              "      <td>1993-08-08</td>\n",
              "    </tr>\n",
              "    <tr>\n",
              "      <th>2</th>\n",
              "      <td>3</td>\n",
              "      <td>Switzerland</td>\n",
              "      <td>SUI</td>\n",
              "      <td>0.0</td>\n",
              "      <td>50.0</td>\n",
              "      <td>9.0</td>\n",
              "      <td>0.0</td>\n",
              "      <td>0.0</td>\n",
              "      <td>0.0</td>\n",
              "      <td>0.0</td>\n",
              "      <td>0.0</td>\n",
              "      <td>0.0</td>\n",
              "      <td>0.0</td>\n",
              "      <td>0.0</td>\n",
              "      <td>UEFA</td>\n",
              "      <td>1993-08-08</td>\n",
              "    </tr>\n",
              "    <tr>\n",
              "      <th>3</th>\n",
              "      <td>4</td>\n",
              "      <td>Sweden</td>\n",
              "      <td>SWE</td>\n",
              "      <td>0.0</td>\n",
              "      <td>55.0</td>\n",
              "      <td>0.0</td>\n",
              "      <td>0.0</td>\n",
              "      <td>0.0</td>\n",
              "      <td>0.0</td>\n",
              "      <td>0.0</td>\n",
              "      <td>0.0</td>\n",
              "      <td>0.0</td>\n",
              "      <td>0.0</td>\n",
              "      <td>0.0</td>\n",
              "      <td>UEFA</td>\n",
              "      <td>1993-08-08</td>\n",
              "    </tr>\n",
              "    <tr>\n",
              "      <th>4</th>\n",
              "      <td>5</td>\n",
              "      <td>Argentina</td>\n",
              "      <td>ARG</td>\n",
              "      <td>0.0</td>\n",
              "      <td>51.0</td>\n",
              "      <td>5.0</td>\n",
              "      <td>0.0</td>\n",
              "      <td>0.0</td>\n",
              "      <td>0.0</td>\n",
              "      <td>0.0</td>\n",
              "      <td>0.0</td>\n",
              "      <td>0.0</td>\n",
              "      <td>0.0</td>\n",
              "      <td>0.0</td>\n",
              "      <td>CONMEBOL</td>\n",
              "      <td>1993-08-08</td>\n",
              "    </tr>\n",
              "  </tbody>\n",
              "</table>\n",
              "</div>"
            ],
            "text/plain": [
              "   rank country_full  ... confederation   rank_date\n",
              "0     1      Germany  ...          UEFA  1993-08-08\n",
              "1     2        Italy  ...          UEFA  1993-08-08\n",
              "2     3  Switzerland  ...          UEFA  1993-08-08\n",
              "3     4       Sweden  ...          UEFA  1993-08-08\n",
              "4     5    Argentina  ...      CONMEBOL  1993-08-08\n",
              "\n",
              "[5 rows x 16 columns]"
            ]
          },
          "metadata": {
            "tags": []
          },
          "execution_count": 2
        }
      ]
    },
    {
      "cell_type": "markdown",
      "metadata": {
        "id": "N0dibgigyUTz",
        "colab_type": "text"
      },
      "source": [
        "# Checking dataset(1)"
      ]
    },
    {
      "cell_type": "code",
      "metadata": {
        "id": "mD9EVbdJxkZH",
        "colab_type": "code",
        "outputId": "677c15cf-1db1-4668-c161-7eaab41e22f5",
        "colab": {
          "base_uri": "https://localhost:8080/",
          "height": 33
        }
      },
      "source": [
        "# Determining the no. of records in our dataset\n",
        "#\n",
        "# df_rank.shape\n",
        "print('Number of records in fifa dataset: ' + str(df_rank.shape))\n"
      ],
      "execution_count": 0,
      "outputs": [
        {
          "output_type": "stream",
          "text": [
            "Number of records in fifa dataset: (41361, 16)\n"
          ],
          "name": "stdout"
        }
      ]
    },
    {
      "cell_type": "code",
      "metadata": {
        "id": "pQJYa3LAylJf",
        "colab_type": "code",
        "outputId": "dc521c6a-4741-44a3-ab05-a0c8a9a08edf",
        "colab": {
          "base_uri": "https://localhost:8080/",
          "height": 292
        }
      },
      "source": [
        "# Previewing the top of our dataset\n",
        "#\n",
        "df_rank.head()\n",
        "# This code previews the first 5 rows of the ranking dataset"
      ],
      "execution_count": 0,
      "outputs": [
        {
          "output_type": "execute_result",
          "data": {
            "text/html": [
              "<div>\n",
              "<style scoped>\n",
              "    .dataframe tbody tr th:only-of-type {\n",
              "        vertical-align: middle;\n",
              "    }\n",
              "\n",
              "    .dataframe tbody tr th {\n",
              "        vertical-align: top;\n",
              "    }\n",
              "\n",
              "    .dataframe thead th {\n",
              "        text-align: right;\n",
              "    }\n",
              "</style>\n",
              "<table border=\"1\" class=\"dataframe\">\n",
              "  <thead>\n",
              "    <tr style=\"text-align: right;\">\n",
              "      <th></th>\n",
              "      <th>rank</th>\n",
              "      <th>country_full</th>\n",
              "      <th>country_abrv</th>\n",
              "      <th>total_points</th>\n",
              "      <th>previous_points</th>\n",
              "      <th>rank_change</th>\n",
              "      <th>cur_year_avg</th>\n",
              "      <th>cur_year_avg_weighted</th>\n",
              "      <th>last_year_avg</th>\n",
              "      <th>last_year_avg_weighted</th>\n",
              "      <th>two_year_ago_avg</th>\n",
              "      <th>two_year_ago_weighted</th>\n",
              "      <th>three_year_ago_avg</th>\n",
              "      <th>three_year_ago_weighted</th>\n",
              "      <th>confederation</th>\n",
              "      <th>rank_date</th>\n",
              "    </tr>\n",
              "  </thead>\n",
              "  <tbody>\n",
              "    <tr>\n",
              "      <th>0</th>\n",
              "      <td>1</td>\n",
              "      <td>Germany</td>\n",
              "      <td>GER</td>\n",
              "      <td>0.0</td>\n",
              "      <td>57.0</td>\n",
              "      <td>0.0</td>\n",
              "      <td>0.0</td>\n",
              "      <td>0.0</td>\n",
              "      <td>0.0</td>\n",
              "      <td>0.0</td>\n",
              "      <td>0.0</td>\n",
              "      <td>0.0</td>\n",
              "      <td>0.0</td>\n",
              "      <td>0.0</td>\n",
              "      <td>UEFA</td>\n",
              "      <td>1993-08-08</td>\n",
              "    </tr>\n",
              "    <tr>\n",
              "      <th>1</th>\n",
              "      <td>2</td>\n",
              "      <td>Italy</td>\n",
              "      <td>ITA</td>\n",
              "      <td>0.0</td>\n",
              "      <td>57.0</td>\n",
              "      <td>0.0</td>\n",
              "      <td>0.0</td>\n",
              "      <td>0.0</td>\n",
              "      <td>0.0</td>\n",
              "      <td>0.0</td>\n",
              "      <td>0.0</td>\n",
              "      <td>0.0</td>\n",
              "      <td>0.0</td>\n",
              "      <td>0.0</td>\n",
              "      <td>UEFA</td>\n",
              "      <td>1993-08-08</td>\n",
              "    </tr>\n",
              "    <tr>\n",
              "      <th>2</th>\n",
              "      <td>3</td>\n",
              "      <td>Switzerland</td>\n",
              "      <td>SUI</td>\n",
              "      <td>0.0</td>\n",
              "      <td>50.0</td>\n",
              "      <td>9.0</td>\n",
              "      <td>0.0</td>\n",
              "      <td>0.0</td>\n",
              "      <td>0.0</td>\n",
              "      <td>0.0</td>\n",
              "      <td>0.0</td>\n",
              "      <td>0.0</td>\n",
              "      <td>0.0</td>\n",
              "      <td>0.0</td>\n",
              "      <td>UEFA</td>\n",
              "      <td>1993-08-08</td>\n",
              "    </tr>\n",
              "    <tr>\n",
              "      <th>3</th>\n",
              "      <td>4</td>\n",
              "      <td>Sweden</td>\n",
              "      <td>SWE</td>\n",
              "      <td>0.0</td>\n",
              "      <td>55.0</td>\n",
              "      <td>0.0</td>\n",
              "      <td>0.0</td>\n",
              "      <td>0.0</td>\n",
              "      <td>0.0</td>\n",
              "      <td>0.0</td>\n",
              "      <td>0.0</td>\n",
              "      <td>0.0</td>\n",
              "      <td>0.0</td>\n",
              "      <td>0.0</td>\n",
              "      <td>UEFA</td>\n",
              "      <td>1993-08-08</td>\n",
              "    </tr>\n",
              "    <tr>\n",
              "      <th>4</th>\n",
              "      <td>5</td>\n",
              "      <td>Argentina</td>\n",
              "      <td>ARG</td>\n",
              "      <td>0.0</td>\n",
              "      <td>51.0</td>\n",
              "      <td>5.0</td>\n",
              "      <td>0.0</td>\n",
              "      <td>0.0</td>\n",
              "      <td>0.0</td>\n",
              "      <td>0.0</td>\n",
              "      <td>0.0</td>\n",
              "      <td>0.0</td>\n",
              "      <td>0.0</td>\n",
              "      <td>0.0</td>\n",
              "      <td>CONMEBOL</td>\n",
              "      <td>1993-08-08</td>\n",
              "    </tr>\n",
              "  </tbody>\n",
              "</table>\n",
              "</div>"
            ],
            "text/plain": [
              "   rank country_full  ... confederation   rank_date\n",
              "0     1      Germany  ...          UEFA  1993-08-08\n",
              "1     2        Italy  ...          UEFA  1993-08-08\n",
              "2     3  Switzerland  ...          UEFA  1993-08-08\n",
              "3     4       Sweden  ...          UEFA  1993-08-08\n",
              "4     5    Argentina  ...      CONMEBOL  1993-08-08\n",
              "\n",
              "[5 rows x 16 columns]"
            ]
          },
          "metadata": {
            "tags": []
          },
          "execution_count": 8
        }
      ]
    },
    {
      "cell_type": "code",
      "metadata": {
        "id": "2EgjHcXKyzmj",
        "colab_type": "code",
        "outputId": "965fcc30-154f-4737-e162-59144e03c0f6",
        "colab": {
          "base_uri": "https://localhost:8080/",
          "height": 276
        }
      },
      "source": [
        "# Previewing the bottom of our dataset\n",
        "# \n",
        "df_rank.tail()\n",
        "# \n",
        "# This previews the last 5 rows of the ranking dataset"
      ],
      "execution_count": 0,
      "outputs": [
        {
          "output_type": "execute_result",
          "data": {
            "text/html": [
              "<div>\n",
              "<style scoped>\n",
              "    .dataframe tbody tr th:only-of-type {\n",
              "        vertical-align: middle;\n",
              "    }\n",
              "\n",
              "    .dataframe tbody tr th {\n",
              "        vertical-align: top;\n",
              "    }\n",
              "\n",
              "    .dataframe thead th {\n",
              "        text-align: right;\n",
              "    }\n",
              "</style>\n",
              "<table border=\"1\" class=\"dataframe\">\n",
              "  <thead>\n",
              "    <tr style=\"text-align: right;\">\n",
              "      <th></th>\n",
              "      <th>rank</th>\n",
              "      <th>country_full</th>\n",
              "      <th>country_abrv</th>\n",
              "      <th>total_points</th>\n",
              "      <th>previous_points</th>\n",
              "      <th>rank_change</th>\n",
              "      <th>cur_year_avg</th>\n",
              "      <th>cur_year_avg_weighted</th>\n",
              "      <th>last_year_avg</th>\n",
              "      <th>last_year_avg_weighted</th>\n",
              "      <th>two_year_ago_avg</th>\n",
              "      <th>two_year_ago_weighted</th>\n",
              "      <th>three_year_ago_avg</th>\n",
              "      <th>three_year_ago_weighted</th>\n",
              "      <th>confederation</th>\n",
              "      <th>rank_date</th>\n",
              "    </tr>\n",
              "  </thead>\n",
              "  <tbody>\n",
              "    <tr>\n",
              "      <th>41356</th>\n",
              "      <td>149</td>\n",
              "      <td>Samoa</td>\n",
              "      <td>SAM</td>\n",
              "      <td>148.75</td>\n",
              "      <td>0.0</td>\n",
              "      <td>55.0</td>\n",
              "      <td>148.75</td>\n",
              "      <td>148.75</td>\n",
              "      <td>0.00</td>\n",
              "      <td>0.00</td>\n",
              "      <td>0.00</td>\n",
              "      <td>0.00</td>\n",
              "      <td>0.00</td>\n",
              "      <td>0.00</td>\n",
              "      <td>OFC</td>\n",
              "      <td>2011-12-21</td>\n",
              "    </tr>\n",
              "    <tr>\n",
              "      <th>41357</th>\n",
              "      <td>150</td>\n",
              "      <td>Equatorial Guinea</td>\n",
              "      <td>EQG</td>\n",
              "      <td>147.91</td>\n",
              "      <td>148.0</td>\n",
              "      <td>1.0</td>\n",
              "      <td>137.28</td>\n",
              "      <td>137.28</td>\n",
              "      <td>0.00</td>\n",
              "      <td>0.00</td>\n",
              "      <td>0.00</td>\n",
              "      <td>0.00</td>\n",
              "      <td>53.13</td>\n",
              "      <td>10.63</td>\n",
              "      <td>CAF</td>\n",
              "      <td>2011-12-21</td>\n",
              "    </tr>\n",
              "    <tr>\n",
              "      <th>41358</th>\n",
              "      <td>151</td>\n",
              "      <td>Yemen</td>\n",
              "      <td>YEM</td>\n",
              "      <td>145.63</td>\n",
              "      <td>153.0</td>\n",
              "      <td>-1.0</td>\n",
              "      <td>39.56</td>\n",
              "      <td>39.56</td>\n",
              "      <td>126.23</td>\n",
              "      <td>63.12</td>\n",
              "      <td>82.77</td>\n",
              "      <td>24.83</td>\n",
              "      <td>90.61</td>\n",
              "      <td>18.12</td>\n",
              "      <td>AFC</td>\n",
              "      <td>2011-12-21</td>\n",
              "    </tr>\n",
              "    <tr>\n",
              "      <th>41359</th>\n",
              "      <td>151</td>\n",
              "      <td>Curaçao</td>\n",
              "      <td>CUW</td>\n",
              "      <td>145.90</td>\n",
              "      <td>154.0</td>\n",
              "      <td>-2.0</td>\n",
              "      <td>85.36</td>\n",
              "      <td>85.36</td>\n",
              "      <td>63.71</td>\n",
              "      <td>31.86</td>\n",
              "      <td>14.45</td>\n",
              "      <td>4.34</td>\n",
              "      <td>121.69</td>\n",
              "      <td>24.34</td>\n",
              "      <td>CONCACAF</td>\n",
              "      <td>2011-12-21</td>\n",
              "    </tr>\n",
              "    <tr>\n",
              "      <th>41360</th>\n",
              "      <td>153</td>\n",
              "      <td>Nep</td>\n",
              "      <td>NaN</td>\n",
              "      <td>NaN</td>\n",
              "      <td>NaN</td>\n",
              "      <td>NaN</td>\n",
              "      <td>NaN</td>\n",
              "      <td>NaN</td>\n",
              "      <td>NaN</td>\n",
              "      <td>NaN</td>\n",
              "      <td>NaN</td>\n",
              "      <td>NaN</td>\n",
              "      <td>NaN</td>\n",
              "      <td>NaN</td>\n",
              "      <td>NaN</td>\n",
              "      <td>NaN</td>\n",
              "    </tr>\n",
              "  </tbody>\n",
              "</table>\n",
              "</div>"
            ],
            "text/plain": [
              "       rank       country_full  ... confederation   rank_date\n",
              "41356   149              Samoa  ...           OFC  2011-12-21\n",
              "41357   150  Equatorial Guinea  ...           CAF  2011-12-21\n",
              "41358   151              Yemen  ...           AFC  2011-12-21\n",
              "41359   151            Curaçao  ...      CONCACAF  2011-12-21\n",
              "41360   153                Nep  ...           NaN         NaN\n",
              "\n",
              "[5 rows x 16 columns]"
            ]
          },
          "metadata": {
            "tags": []
          },
          "execution_count": 9
        }
      ]
    },
    {
      "cell_type": "code",
      "metadata": {
        "id": "6VWoMQ8ry381",
        "colab_type": "code",
        "outputId": "958580fd-1836-4a1b-9b05-fffdac253190",
        "colab": {
          "base_uri": "https://localhost:8080/",
          "height": 293
        }
      },
      "source": [
        "# checking different data types within the dataset\n",
        "df_rank.dtypes\n",
        "# since our main objective is to predict the score of a game, we will have to convert the data to numeric dataset\n",
        "# which machine learning works with"
      ],
      "execution_count": 0,
      "outputs": [
        {
          "output_type": "execute_result",
          "data": {
            "text/plain": [
              "rank                         int64\n",
              "country_full                object\n",
              "country_abrv                object\n",
              "total_points               float64\n",
              "previous_points            float64\n",
              "rank_change                float64\n",
              "cur_year_avg               float64\n",
              "cur_year_avg_weighted      float64\n",
              "last_year_avg              float64\n",
              "last_year_avg_weighted     float64\n",
              "two_year_ago_avg           float64\n",
              "two_year_ago_weighted      float64\n",
              "three_year_ago_avg         float64\n",
              "three_year_ago_weighted    float64\n",
              "confederation               object\n",
              "rank_date                   object\n",
              "dtype: object"
            ]
          },
          "metadata": {
            "tags": []
          },
          "execution_count": 10
        }
      ]
    },
    {
      "cell_type": "code",
      "metadata": {
        "id": "5boGBv0vzPBT",
        "colab_type": "code",
        "outputId": "eefc20fb-4b6a-40d4-aa23-6399bfd89b86",
        "colab": {
          "base_uri": "https://localhost:8080/",
          "height": 297
        }
      },
      "source": [
        "# Previewing statistical summaries about the fifa_ranking dataset\n",
        "# \n",
        "df_rank.describe()\n",
        "# This gives summary statistics of numeric columns"
      ],
      "execution_count": 0,
      "outputs": [
        {
          "output_type": "execute_result",
          "data": {
            "text/html": [
              "<div>\n",
              "<style scoped>\n",
              "    .dataframe tbody tr th:only-of-type {\n",
              "        vertical-align: middle;\n",
              "    }\n",
              "\n",
              "    .dataframe tbody tr th {\n",
              "        vertical-align: top;\n",
              "    }\n",
              "\n",
              "    .dataframe thead th {\n",
              "        text-align: right;\n",
              "    }\n",
              "</style>\n",
              "<table border=\"1\" class=\"dataframe\">\n",
              "  <thead>\n",
              "    <tr style=\"text-align: right;\">\n",
              "      <th></th>\n",
              "      <th>rank</th>\n",
              "      <th>total_points</th>\n",
              "      <th>previous_points</th>\n",
              "      <th>rank_change</th>\n",
              "      <th>cur_year_avg</th>\n",
              "      <th>cur_year_avg_weighted</th>\n",
              "      <th>last_year_avg</th>\n",
              "      <th>last_year_avg_weighted</th>\n",
              "      <th>two_year_ago_avg</th>\n",
              "      <th>two_year_ago_weighted</th>\n",
              "      <th>three_year_ago_avg</th>\n",
              "      <th>three_year_ago_weighted</th>\n",
              "    </tr>\n",
              "  </thead>\n",
              "  <tbody>\n",
              "    <tr>\n",
              "      <th>count</th>\n",
              "      <td>41361.000000</td>\n",
              "      <td>41360.000000</td>\n",
              "      <td>41360.000000</td>\n",
              "      <td>41360.000000</td>\n",
              "      <td>41360.000000</td>\n",
              "      <td>41360.000000</td>\n",
              "      <td>41360.000000</td>\n",
              "      <td>41360.000000</td>\n",
              "      <td>41360.000000</td>\n",
              "      <td>41360.000000</td>\n",
              "      <td>41360.000000</td>\n",
              "      <td>41360.000000</td>\n",
              "    </tr>\n",
              "    <tr>\n",
              "      <th>mean</th>\n",
              "      <td>100.139310</td>\n",
              "      <td>9.747373</td>\n",
              "      <td>303.542045</td>\n",
              "      <td>-0.011509</td>\n",
              "      <td>5.036464</td>\n",
              "      <td>5.036464</td>\n",
              "      <td>4.583521</td>\n",
              "      <td>2.291769</td>\n",
              "      <td>4.709264</td>\n",
              "      <td>1.412786</td>\n",
              "      <td>5.031722</td>\n",
              "      <td>1.006354</td>\n",
              "    </tr>\n",
              "    <tr>\n",
              "      <th>std</th>\n",
              "      <td>57.844482</td>\n",
              "      <td>79.412835</td>\n",
              "      <td>285.012369</td>\n",
              "      <td>5.415747</td>\n",
              "      <td>40.763959</td>\n",
              "      <td>40.763959</td>\n",
              "      <td>42.781605</td>\n",
              "      <td>21.390843</td>\n",
              "      <td>42.100737</td>\n",
              "      <td>12.630233</td>\n",
              "      <td>41.551552</td>\n",
              "      <td>8.310359</td>\n",
              "    </tr>\n",
              "    <tr>\n",
              "      <th>min</th>\n",
              "      <td>1.000000</td>\n",
              "      <td>0.000000</td>\n",
              "      <td>0.000000</td>\n",
              "      <td>-72.000000</td>\n",
              "      <td>0.000000</td>\n",
              "      <td>0.000000</td>\n",
              "      <td>0.000000</td>\n",
              "      <td>0.000000</td>\n",
              "      <td>0.000000</td>\n",
              "      <td>0.000000</td>\n",
              "      <td>0.000000</td>\n",
              "      <td>0.000000</td>\n",
              "    </tr>\n",
              "    <tr>\n",
              "      <th>25%</th>\n",
              "      <td>50.000000</td>\n",
              "      <td>0.000000</td>\n",
              "      <td>43.000000</td>\n",
              "      <td>-2.000000</td>\n",
              "      <td>0.000000</td>\n",
              "      <td>0.000000</td>\n",
              "      <td>0.000000</td>\n",
              "      <td>0.000000</td>\n",
              "      <td>0.000000</td>\n",
              "      <td>0.000000</td>\n",
              "      <td>0.000000</td>\n",
              "      <td>0.000000</td>\n",
              "    </tr>\n",
              "    <tr>\n",
              "      <th>50%</th>\n",
              "      <td>100.000000</td>\n",
              "      <td>0.000000</td>\n",
              "      <td>242.000000</td>\n",
              "      <td>0.000000</td>\n",
              "      <td>0.000000</td>\n",
              "      <td>0.000000</td>\n",
              "      <td>0.000000</td>\n",
              "      <td>0.000000</td>\n",
              "      <td>0.000000</td>\n",
              "      <td>0.000000</td>\n",
              "      <td>0.000000</td>\n",
              "      <td>0.000000</td>\n",
              "    </tr>\n",
              "    <tr>\n",
              "      <th>75%</th>\n",
              "      <td>150.000000</td>\n",
              "      <td>0.000000</td>\n",
              "      <td>506.000000</td>\n",
              "      <td>1.000000</td>\n",
              "      <td>0.000000</td>\n",
              "      <td>0.000000</td>\n",
              "      <td>0.000000</td>\n",
              "      <td>0.000000</td>\n",
              "      <td>0.000000</td>\n",
              "      <td>0.000000</td>\n",
              "      <td>0.000000</td>\n",
              "      <td>0.000000</td>\n",
              "    </tr>\n",
              "    <tr>\n",
              "      <th>max</th>\n",
              "      <td>207.000000</td>\n",
              "      <td>1624.450000</td>\n",
              "      <td>1920.000000</td>\n",
              "      <td>92.000000</td>\n",
              "      <td>748.050000</td>\n",
              "      <td>748.050000</td>\n",
              "      <td>1088.300000</td>\n",
              "      <td>544.150000</td>\n",
              "      <td>1045.510000</td>\n",
              "      <td>313.650000</td>\n",
              "      <td>1045.710000</td>\n",
              "      <td>209.140000</td>\n",
              "    </tr>\n",
              "  </tbody>\n",
              "</table>\n",
              "</div>"
            ],
            "text/plain": [
              "               rank  total_points  ...  three_year_ago_avg  three_year_ago_weighted\n",
              "count  41361.000000  41360.000000  ...        41360.000000             41360.000000\n",
              "mean     100.139310      9.747373  ...            5.031722                 1.006354\n",
              "std       57.844482     79.412835  ...           41.551552                 8.310359\n",
              "min        1.000000      0.000000  ...            0.000000                 0.000000\n",
              "25%       50.000000      0.000000  ...            0.000000                 0.000000\n",
              "50%      100.000000      0.000000  ...            0.000000                 0.000000\n",
              "75%      150.000000      0.000000  ...            0.000000                 0.000000\n",
              "max      207.000000   1624.450000  ...         1045.710000               209.140000\n",
              "\n",
              "[8 rows x 12 columns]"
            ]
          },
          "metadata": {
            "tags": []
          },
          "execution_count": 11
        }
      ]
    },
    {
      "cell_type": "markdown",
      "metadata": {
        "id": "tN95R1l01ea3",
        "colab_type": "text"
      },
      "source": [
        "# Tidying the dataset(1)"
      ]
    },
    {
      "cell_type": "code",
      "metadata": {
        "id": "THjvA3zg0Lk6",
        "colab_type": "code",
        "outputId": "f56eb2de-5022-4b21-b6ff-1aa7bc7cfa08",
        "colab": {
          "base_uri": "https://localhost:8080/",
          "height": 293
        }
      },
      "source": [
        "# Identifying the Missing Data in the ranking dataset\n",
        "#\n",
        "df_rank.isnull().sum()\n",
        "# No missing data"
      ],
      "execution_count": 0,
      "outputs": [
        {
          "output_type": "execute_result",
          "data": {
            "text/plain": [
              "rank                       0\n",
              "country_full               0\n",
              "country_abrv               1\n",
              "total_points               1\n",
              "previous_points            1\n",
              "rank_change                1\n",
              "cur_year_avg               1\n",
              "cur_year_avg_weighted      1\n",
              "last_year_avg              1\n",
              "last_year_avg_weighted     1\n",
              "two_year_ago_avg           1\n",
              "two_year_ago_weighted      1\n",
              "three_year_ago_avg         1\n",
              "three_year_ago_weighted    1\n",
              "confederation              1\n",
              "rank_date                  1\n",
              "dtype: int64"
            ]
          },
          "metadata": {
            "tags": []
          },
          "execution_count": 12
        }
      ]
    },
    {
      "cell_type": "code",
      "metadata": {
        "id": "4XL8vVzi1nXa",
        "colab_type": "code",
        "outputId": "96fe07ea-bc53-4e4b-874a-531011476689",
        "colab": {
          "base_uri": "https://localhost:8080/",
          "height": 33
        }
      },
      "source": [
        "# Checking for Anomalities\n",
        "# involves checking for duplicates\n",
        "# \n",
        "print(df_rank.duplicated().any())\n",
        "# This shows that there are duplicated entries which need to be dropped"
      ],
      "execution_count": 0,
      "outputs": [
        {
          "output_type": "stream",
          "text": [
            "True\n"
          ],
          "name": "stdout"
        }
      ]
    },
    {
      "cell_type": "code",
      "metadata": {
        "id": "bNPiYmXm1vhZ",
        "colab_type": "code",
        "outputId": "a969b83e-de6f-4af1-edfa-e9b5d13b18a3",
        "colab": {
          "base_uri": "https://localhost:8080/",
          "height": 33
        }
      },
      "source": [
        "# removing duplicates\n",
        "# \n",
        "\n",
        "df_rank.drop_duplicates(keep='first', inplace = True)\n",
        "\n",
        "print(df_rank.duplicated().any())\n",
        "# duplicates have been removed"
      ],
      "execution_count": 0,
      "outputs": [
        {
          "output_type": "stream",
          "text": [
            "False\n"
          ],
          "name": "stdout"
        }
      ]
    },
    {
      "cell_type": "code",
      "metadata": {
        "id": "HHJh9Rjj15bg",
        "colab_type": "code",
        "outputId": "e19ba917-8151-4e22-ff9b-3ae3a0ff88c6",
        "colab": {
          "base_uri": "https://localhost:8080/",
          "height": 191
        }
      },
      "source": [
        "# More data cleaning procedures\n",
        "# Dropping of unnecessary columns\n",
        "df1_rank = df_rank.drop(['cur_year_avg','cur_year_avg_weighted','last_year_avg','last_year_avg_weighted','two_year_ago_avg','two_year_ago_weighted',\n",
        "                         'three_year_ago_avg','three_year_ago_weighted'], axis=1)\n",
        "df1_rank.head()"
      ],
      "execution_count": 0,
      "outputs": [
        {
          "output_type": "execute_result",
          "data": {
            "text/html": [
              "<div>\n",
              "<style scoped>\n",
              "    .dataframe tbody tr th:only-of-type {\n",
              "        vertical-align: middle;\n",
              "    }\n",
              "\n",
              "    .dataframe tbody tr th {\n",
              "        vertical-align: top;\n",
              "    }\n",
              "\n",
              "    .dataframe thead th {\n",
              "        text-align: right;\n",
              "    }\n",
              "</style>\n",
              "<table border=\"1\" class=\"dataframe\">\n",
              "  <thead>\n",
              "    <tr style=\"text-align: right;\">\n",
              "      <th></th>\n",
              "      <th>rank</th>\n",
              "      <th>country_full</th>\n",
              "      <th>country_abrv</th>\n",
              "      <th>total_points</th>\n",
              "      <th>previous_points</th>\n",
              "      <th>rank_change</th>\n",
              "      <th>confederation</th>\n",
              "      <th>rank_date</th>\n",
              "    </tr>\n",
              "  </thead>\n",
              "  <tbody>\n",
              "    <tr>\n",
              "      <th>0</th>\n",
              "      <td>1</td>\n",
              "      <td>Germany</td>\n",
              "      <td>GER</td>\n",
              "      <td>0.0</td>\n",
              "      <td>57.0</td>\n",
              "      <td>0.0</td>\n",
              "      <td>UEFA</td>\n",
              "      <td>1993-08-08</td>\n",
              "    </tr>\n",
              "    <tr>\n",
              "      <th>1</th>\n",
              "      <td>2</td>\n",
              "      <td>Italy</td>\n",
              "      <td>ITA</td>\n",
              "      <td>0.0</td>\n",
              "      <td>57.0</td>\n",
              "      <td>0.0</td>\n",
              "      <td>UEFA</td>\n",
              "      <td>1993-08-08</td>\n",
              "    </tr>\n",
              "    <tr>\n",
              "      <th>2</th>\n",
              "      <td>3</td>\n",
              "      <td>Switzerland</td>\n",
              "      <td>SUI</td>\n",
              "      <td>0.0</td>\n",
              "      <td>50.0</td>\n",
              "      <td>9.0</td>\n",
              "      <td>UEFA</td>\n",
              "      <td>1993-08-08</td>\n",
              "    </tr>\n",
              "    <tr>\n",
              "      <th>3</th>\n",
              "      <td>4</td>\n",
              "      <td>Sweden</td>\n",
              "      <td>SWE</td>\n",
              "      <td>0.0</td>\n",
              "      <td>55.0</td>\n",
              "      <td>0.0</td>\n",
              "      <td>UEFA</td>\n",
              "      <td>1993-08-08</td>\n",
              "    </tr>\n",
              "    <tr>\n",
              "      <th>4</th>\n",
              "      <td>5</td>\n",
              "      <td>Argentina</td>\n",
              "      <td>ARG</td>\n",
              "      <td>0.0</td>\n",
              "      <td>51.0</td>\n",
              "      <td>5.0</td>\n",
              "      <td>CONMEBOL</td>\n",
              "      <td>1993-08-08</td>\n",
              "    </tr>\n",
              "  </tbody>\n",
              "</table>\n",
              "</div>"
            ],
            "text/plain": [
              "   rank country_full country_abrv  ...  rank_change  confederation   rank_date\n",
              "0     1      Germany          GER  ...          0.0           UEFA  1993-08-08\n",
              "1     2        Italy          ITA  ...          0.0           UEFA  1993-08-08\n",
              "2     3  Switzerland          SUI  ...          9.0           UEFA  1993-08-08\n",
              "3     4       Sweden          SWE  ...          0.0           UEFA  1993-08-08\n",
              "4     5    Argentina          ARG  ...          5.0       CONMEBOL  1993-08-08\n",
              "\n",
              "[5 rows x 8 columns]"
            ]
          },
          "metadata": {
            "tags": []
          },
          "execution_count": 16
        }
      ]
    },
    {
      "cell_type": "markdown",
      "metadata": {
        "id": "Zw-1eYEk7rZa",
        "colab_type": "text"
      },
      "source": [
        "# Getting appropriate data for the analysis(dataset1)"
      ]
    },
    {
      "cell_type": "markdown",
      "metadata": {
        "id": "IVv2hh069fAD",
        "colab_type": "text"
      },
      "source": [
        "For this procedure, i changed the rank_date column to a new column name(date) to match the date column in the fifa_results dataset for merging.\n",
        "I then created a new column with month and year which i then used to filter out data for a specific year to be able to predict a win using one year given that there are many years represented in the dataset"
      ]
    },
    {
      "cell_type": "code",
      "metadata": {
        "id": "aggK_Dds9dK7",
        "colab_type": "code",
        "outputId": "208fd77b-cfe8-4d02-f9ce-981caa92dc16",
        "colab": {
          "base_uri": "https://localhost:8080/",
          "height": 191
        }
      },
      "source": [
        "df1_rank.rank_date = df1_rank.rename({'rank_date': 'date'}, axis = 1, inplace = True)\n",
        "df1_rank.head()"
      ],
      "execution_count": 0,
      "outputs": [
        {
          "output_type": "execute_result",
          "data": {
            "text/html": [
              "<div>\n",
              "<style scoped>\n",
              "    .dataframe tbody tr th:only-of-type {\n",
              "        vertical-align: middle;\n",
              "    }\n",
              "\n",
              "    .dataframe tbody tr th {\n",
              "        vertical-align: top;\n",
              "    }\n",
              "\n",
              "    .dataframe thead th {\n",
              "        text-align: right;\n",
              "    }\n",
              "</style>\n",
              "<table border=\"1\" class=\"dataframe\">\n",
              "  <thead>\n",
              "    <tr style=\"text-align: right;\">\n",
              "      <th></th>\n",
              "      <th>rank</th>\n",
              "      <th>country_full</th>\n",
              "      <th>country_abrv</th>\n",
              "      <th>total_points</th>\n",
              "      <th>previous_points</th>\n",
              "      <th>rank_change</th>\n",
              "      <th>confederation</th>\n",
              "      <th>date</th>\n",
              "    </tr>\n",
              "  </thead>\n",
              "  <tbody>\n",
              "    <tr>\n",
              "      <th>0</th>\n",
              "      <td>1</td>\n",
              "      <td>Germany</td>\n",
              "      <td>GER</td>\n",
              "      <td>0.0</td>\n",
              "      <td>57.0</td>\n",
              "      <td>0.0</td>\n",
              "      <td>UEFA</td>\n",
              "      <td>1993-08-08</td>\n",
              "    </tr>\n",
              "    <tr>\n",
              "      <th>1</th>\n",
              "      <td>2</td>\n",
              "      <td>Italy</td>\n",
              "      <td>ITA</td>\n",
              "      <td>0.0</td>\n",
              "      <td>57.0</td>\n",
              "      <td>0.0</td>\n",
              "      <td>UEFA</td>\n",
              "      <td>1993-08-08</td>\n",
              "    </tr>\n",
              "    <tr>\n",
              "      <th>2</th>\n",
              "      <td>3</td>\n",
              "      <td>Switzerland</td>\n",
              "      <td>SUI</td>\n",
              "      <td>0.0</td>\n",
              "      <td>50.0</td>\n",
              "      <td>9.0</td>\n",
              "      <td>UEFA</td>\n",
              "      <td>1993-08-08</td>\n",
              "    </tr>\n",
              "    <tr>\n",
              "      <th>3</th>\n",
              "      <td>4</td>\n",
              "      <td>Sweden</td>\n",
              "      <td>SWE</td>\n",
              "      <td>0.0</td>\n",
              "      <td>55.0</td>\n",
              "      <td>0.0</td>\n",
              "      <td>UEFA</td>\n",
              "      <td>1993-08-08</td>\n",
              "    </tr>\n",
              "    <tr>\n",
              "      <th>4</th>\n",
              "      <td>5</td>\n",
              "      <td>Argentina</td>\n",
              "      <td>ARG</td>\n",
              "      <td>0.0</td>\n",
              "      <td>51.0</td>\n",
              "      <td>5.0</td>\n",
              "      <td>CONMEBOL</td>\n",
              "      <td>1993-08-08</td>\n",
              "    </tr>\n",
              "  </tbody>\n",
              "</table>\n",
              "</div>"
            ],
            "text/plain": [
              "   rank country_full country_abrv  ...  rank_change  confederation        date\n",
              "0     1      Germany          GER  ...          0.0           UEFA  1993-08-08\n",
              "1     2        Italy          ITA  ...          0.0           UEFA  1993-08-08\n",
              "2     3  Switzerland          SUI  ...          9.0           UEFA  1993-08-08\n",
              "3     4       Sweden          SWE  ...          0.0           UEFA  1993-08-08\n",
              "4     5    Argentina          ARG  ...          5.0       CONMEBOL  1993-08-08\n",
              "\n",
              "[5 rows x 8 columns]"
            ]
          },
          "metadata": {
            "tags": []
          },
          "execution_count": 17
        }
      ]
    },
    {
      "cell_type": "code",
      "metadata": {
        "id": "ObSneLN0AQJB",
        "colab_type": "code",
        "colab": {}
      },
      "source": [
        "# changing date from object to datetime \n",
        "# \n",
        "df1_rank['date'] = pd.to_datetime(df1_rank['date'])"
      ],
      "execution_count": 0,
      "outputs": []
    },
    {
      "cell_type": "code",
      "metadata": {
        "id": "2OvI357F_9dJ",
        "colab_type": "code",
        "outputId": "1e5b7922-2fc9-45a5-eef0-930aa6b2ad4b",
        "colab": {
          "base_uri": "https://localhost:8080/",
          "height": 191
        }
      },
      "source": [
        "# Creating a year and month column \n",
        "df1_rank['year'] = df1_rank.date.dt.year\n",
        "df1_rank['month'] = df1_rank.date.dt.month\n",
        "df1_rank.head()\n"
      ],
      "execution_count": 0,
      "outputs": [
        {
          "output_type": "execute_result",
          "data": {
            "text/html": [
              "<div>\n",
              "<style scoped>\n",
              "    .dataframe tbody tr th:only-of-type {\n",
              "        vertical-align: middle;\n",
              "    }\n",
              "\n",
              "    .dataframe tbody tr th {\n",
              "        vertical-align: top;\n",
              "    }\n",
              "\n",
              "    .dataframe thead th {\n",
              "        text-align: right;\n",
              "    }\n",
              "</style>\n",
              "<table border=\"1\" class=\"dataframe\">\n",
              "  <thead>\n",
              "    <tr style=\"text-align: right;\">\n",
              "      <th></th>\n",
              "      <th>rank</th>\n",
              "      <th>country_full</th>\n",
              "      <th>country_abrv</th>\n",
              "      <th>total_points</th>\n",
              "      <th>previous_points</th>\n",
              "      <th>rank_change</th>\n",
              "      <th>confederation</th>\n",
              "      <th>date</th>\n",
              "      <th>year</th>\n",
              "      <th>month</th>\n",
              "    </tr>\n",
              "  </thead>\n",
              "  <tbody>\n",
              "    <tr>\n",
              "      <th>0</th>\n",
              "      <td>1</td>\n",
              "      <td>Germany</td>\n",
              "      <td>GER</td>\n",
              "      <td>0.0</td>\n",
              "      <td>57.0</td>\n",
              "      <td>0.0</td>\n",
              "      <td>UEFA</td>\n",
              "      <td>1993-08-08</td>\n",
              "      <td>1993.0</td>\n",
              "      <td>8.0</td>\n",
              "    </tr>\n",
              "    <tr>\n",
              "      <th>1</th>\n",
              "      <td>2</td>\n",
              "      <td>Italy</td>\n",
              "      <td>ITA</td>\n",
              "      <td>0.0</td>\n",
              "      <td>57.0</td>\n",
              "      <td>0.0</td>\n",
              "      <td>UEFA</td>\n",
              "      <td>1993-08-08</td>\n",
              "      <td>1993.0</td>\n",
              "      <td>8.0</td>\n",
              "    </tr>\n",
              "    <tr>\n",
              "      <th>2</th>\n",
              "      <td>3</td>\n",
              "      <td>Switzerland</td>\n",
              "      <td>SUI</td>\n",
              "      <td>0.0</td>\n",
              "      <td>50.0</td>\n",
              "      <td>9.0</td>\n",
              "      <td>UEFA</td>\n",
              "      <td>1993-08-08</td>\n",
              "      <td>1993.0</td>\n",
              "      <td>8.0</td>\n",
              "    </tr>\n",
              "    <tr>\n",
              "      <th>3</th>\n",
              "      <td>4</td>\n",
              "      <td>Sweden</td>\n",
              "      <td>SWE</td>\n",
              "      <td>0.0</td>\n",
              "      <td>55.0</td>\n",
              "      <td>0.0</td>\n",
              "      <td>UEFA</td>\n",
              "      <td>1993-08-08</td>\n",
              "      <td>1993.0</td>\n",
              "      <td>8.0</td>\n",
              "    </tr>\n",
              "    <tr>\n",
              "      <th>4</th>\n",
              "      <td>5</td>\n",
              "      <td>Argentina</td>\n",
              "      <td>ARG</td>\n",
              "      <td>0.0</td>\n",
              "      <td>51.0</td>\n",
              "      <td>5.0</td>\n",
              "      <td>CONMEBOL</td>\n",
              "      <td>1993-08-08</td>\n",
              "      <td>1993.0</td>\n",
              "      <td>8.0</td>\n",
              "    </tr>\n",
              "  </tbody>\n",
              "</table>\n",
              "</div>"
            ],
            "text/plain": [
              "   rank country_full country_abrv  ...       date    year  month\n",
              "0     1      Germany          GER  ... 1993-08-08  1993.0    8.0\n",
              "1     2        Italy          ITA  ... 1993-08-08  1993.0    8.0\n",
              "2     3  Switzerland          SUI  ... 1993-08-08  1993.0    8.0\n",
              "3     4       Sweden          SWE  ... 1993-08-08  1993.0    8.0\n",
              "4     5    Argentina          ARG  ... 1993-08-08  1993.0    8.0\n",
              "\n",
              "[5 rows x 10 columns]"
            ]
          },
          "metadata": {
            "tags": []
          },
          "execution_count": 19
        }
      ]
    },
    {
      "cell_type": "code",
      "metadata": {
        "id": "QAr58iZI_dfz",
        "colab_type": "code",
        "outputId": "3c7a1643-d722-42ab-e54a-0c94c19134c6",
        "colab": {
          "base_uri": "https://localhost:8080/",
          "height": 342
        }
      },
      "source": [
        "# taking a check of the years columns to see how the years are distributed\n",
        "# \n",
        "df1_rank['year'].value_counts()"
      ],
      "execution_count": 0,
      "outputs": [
        {
          "output_type": "execute_result",
          "data": {
            "text/plain": [
              "2007.0    2489\n",
              "2009.0    2484\n",
              "2008.0    2484\n",
              "2005.0    2461\n",
              "2004.0    2455\n",
              "2003.0    2450\n",
              "2001.0    2436\n",
              "2000.0    2429\n",
              "2011.0    2428\n",
              "1999.0    2416\n",
              "2010.0    2277\n",
              "2006.0    2259\n",
              "2002.0    2233\n",
              "1998.0    1938\n",
              "1997.0    1916\n",
              "1996.0    1847\n",
              "1995.0    1792\n",
              "1994.0    1728\n",
              "1993.0     837\n",
              "Name: year, dtype: int64"
            ]
          },
          "metadata": {
            "tags": []
          },
          "execution_count": 20
        }
      ]
    },
    {
      "cell_type": "markdown",
      "metadata": {
        "id": "sOC925ix2l7g",
        "colab_type": "text"
      },
      "source": [
        "# Loading Dataset 2(Fifa_results)"
      ]
    },
    {
      "cell_type": "code",
      "metadata": {
        "id": "-Lybfg2q2EKR",
        "colab_type": "code",
        "outputId": "de30376a-f5cc-4206-eb2c-37f36f20e711",
        "colab": {
          "base_uri": "https://localhost:8080/",
          "height": 191
        }
      },
      "source": [
        "df_res= pd.read_csv(\"Fifa_results.csv\")\n",
        "df_res.head()"
      ],
      "execution_count": 0,
      "outputs": [
        {
          "output_type": "execute_result",
          "data": {
            "text/html": [
              "<div>\n",
              "<style scoped>\n",
              "    .dataframe tbody tr th:only-of-type {\n",
              "        vertical-align: middle;\n",
              "    }\n",
              "\n",
              "    .dataframe tbody tr th {\n",
              "        vertical-align: top;\n",
              "    }\n",
              "\n",
              "    .dataframe thead th {\n",
              "        text-align: right;\n",
              "    }\n",
              "</style>\n",
              "<table border=\"1\" class=\"dataframe\">\n",
              "  <thead>\n",
              "    <tr style=\"text-align: right;\">\n",
              "      <th></th>\n",
              "      <th>date</th>\n",
              "      <th>home_team</th>\n",
              "      <th>away_team</th>\n",
              "      <th>home_score</th>\n",
              "      <th>away_score</th>\n",
              "      <th>tournament</th>\n",
              "      <th>city</th>\n",
              "      <th>country</th>\n",
              "      <th>neutral</th>\n",
              "    </tr>\n",
              "  </thead>\n",
              "  <tbody>\n",
              "    <tr>\n",
              "      <th>0</th>\n",
              "      <td>1872-11-30</td>\n",
              "      <td>Scotland</td>\n",
              "      <td>England</td>\n",
              "      <td>0</td>\n",
              "      <td>0</td>\n",
              "      <td>Friendly</td>\n",
              "      <td>Glasgow</td>\n",
              "      <td>Scotland</td>\n",
              "      <td>False</td>\n",
              "    </tr>\n",
              "    <tr>\n",
              "      <th>1</th>\n",
              "      <td>1873-03-08</td>\n",
              "      <td>England</td>\n",
              "      <td>Scotland</td>\n",
              "      <td>4</td>\n",
              "      <td>2</td>\n",
              "      <td>Friendly</td>\n",
              "      <td>London</td>\n",
              "      <td>England</td>\n",
              "      <td>False</td>\n",
              "    </tr>\n",
              "    <tr>\n",
              "      <th>2</th>\n",
              "      <td>1874-03-07</td>\n",
              "      <td>Scotland</td>\n",
              "      <td>England</td>\n",
              "      <td>2</td>\n",
              "      <td>1</td>\n",
              "      <td>Friendly</td>\n",
              "      <td>Glasgow</td>\n",
              "      <td>Scotland</td>\n",
              "      <td>False</td>\n",
              "    </tr>\n",
              "    <tr>\n",
              "      <th>3</th>\n",
              "      <td>1875-03-06</td>\n",
              "      <td>England</td>\n",
              "      <td>Scotland</td>\n",
              "      <td>2</td>\n",
              "      <td>2</td>\n",
              "      <td>Friendly</td>\n",
              "      <td>London</td>\n",
              "      <td>England</td>\n",
              "      <td>False</td>\n",
              "    </tr>\n",
              "    <tr>\n",
              "      <th>4</th>\n",
              "      <td>1876-03-04</td>\n",
              "      <td>Scotland</td>\n",
              "      <td>England</td>\n",
              "      <td>3</td>\n",
              "      <td>0</td>\n",
              "      <td>Friendly</td>\n",
              "      <td>Glasgow</td>\n",
              "      <td>Scotland</td>\n",
              "      <td>False</td>\n",
              "    </tr>\n",
              "  </tbody>\n",
              "</table>\n",
              "</div>"
            ],
            "text/plain": [
              "         date home_team away_team  ...     city   country neutral\n",
              "0  1872-11-30  Scotland   England  ...  Glasgow  Scotland   False\n",
              "1  1873-03-08   England  Scotland  ...   London   England   False\n",
              "2  1874-03-07  Scotland   England  ...  Glasgow  Scotland   False\n",
              "3  1875-03-06   England  Scotland  ...   London   England   False\n",
              "4  1876-03-04  Scotland   England  ...  Glasgow  Scotland   False\n",
              "\n",
              "[5 rows x 9 columns]"
            ]
          },
          "metadata": {
            "tags": []
          },
          "execution_count": 21
        }
      ]
    },
    {
      "cell_type": "markdown",
      "metadata": {
        "id": "ZaToYRyW3IVG",
        "colab_type": "text"
      },
      "source": [
        "# Checking dataset(2)"
      ]
    },
    {
      "cell_type": "code",
      "metadata": {
        "id": "j_4GjGvv2z_W",
        "colab_type": "code",
        "outputId": "9c145046-400d-4505-ea90-fdeee0cc4eb6",
        "colab": {
          "base_uri": "https://localhost:8080/",
          "height": 33
        }
      },
      "source": [
        "# Determining the no. of records in our dataset\n",
        "# \n",
        "print('Number of records in fifa dataset: ' + str(df_res.shape))"
      ],
      "execution_count": 0,
      "outputs": [
        {
          "output_type": "stream",
          "text": [
            "Number of records in fifa dataset: (40839, 9)\n"
          ],
          "name": "stdout"
        }
      ]
    },
    {
      "cell_type": "code",
      "metadata": {
        "id": "5i7XLQki3SJJ",
        "colab_type": "code",
        "outputId": "e1dd0ece-8a34-4e0b-f585-e59c20a917b0",
        "colab": {
          "base_uri": "https://localhost:8080/",
          "height": 191
        }
      },
      "source": [
        "# Previewing the top of our dataset\n",
        "#\n",
        "df_res.head()\n",
        "# This code previews the first 5 rows of the ranking dataset"
      ],
      "execution_count": 0,
      "outputs": [
        {
          "output_type": "execute_result",
          "data": {
            "text/html": [
              "<div>\n",
              "<style scoped>\n",
              "    .dataframe tbody tr th:only-of-type {\n",
              "        vertical-align: middle;\n",
              "    }\n",
              "\n",
              "    .dataframe tbody tr th {\n",
              "        vertical-align: top;\n",
              "    }\n",
              "\n",
              "    .dataframe thead th {\n",
              "        text-align: right;\n",
              "    }\n",
              "</style>\n",
              "<table border=\"1\" class=\"dataframe\">\n",
              "  <thead>\n",
              "    <tr style=\"text-align: right;\">\n",
              "      <th></th>\n",
              "      <th>date</th>\n",
              "      <th>home_team</th>\n",
              "      <th>away_team</th>\n",
              "      <th>home_score</th>\n",
              "      <th>away_score</th>\n",
              "      <th>tournament</th>\n",
              "      <th>city</th>\n",
              "      <th>country</th>\n",
              "      <th>neutral</th>\n",
              "    </tr>\n",
              "  </thead>\n",
              "  <tbody>\n",
              "    <tr>\n",
              "      <th>0</th>\n",
              "      <td>1872-11-30</td>\n",
              "      <td>Scotland</td>\n",
              "      <td>England</td>\n",
              "      <td>0</td>\n",
              "      <td>0</td>\n",
              "      <td>Friendly</td>\n",
              "      <td>Glasgow</td>\n",
              "      <td>Scotland</td>\n",
              "      <td>False</td>\n",
              "    </tr>\n",
              "    <tr>\n",
              "      <th>1</th>\n",
              "      <td>1873-03-08</td>\n",
              "      <td>England</td>\n",
              "      <td>Scotland</td>\n",
              "      <td>4</td>\n",
              "      <td>2</td>\n",
              "      <td>Friendly</td>\n",
              "      <td>London</td>\n",
              "      <td>England</td>\n",
              "      <td>False</td>\n",
              "    </tr>\n",
              "    <tr>\n",
              "      <th>2</th>\n",
              "      <td>1874-03-07</td>\n",
              "      <td>Scotland</td>\n",
              "      <td>England</td>\n",
              "      <td>2</td>\n",
              "      <td>1</td>\n",
              "      <td>Friendly</td>\n",
              "      <td>Glasgow</td>\n",
              "      <td>Scotland</td>\n",
              "      <td>False</td>\n",
              "    </tr>\n",
              "    <tr>\n",
              "      <th>3</th>\n",
              "      <td>1875-03-06</td>\n",
              "      <td>England</td>\n",
              "      <td>Scotland</td>\n",
              "      <td>2</td>\n",
              "      <td>2</td>\n",
              "      <td>Friendly</td>\n",
              "      <td>London</td>\n",
              "      <td>England</td>\n",
              "      <td>False</td>\n",
              "    </tr>\n",
              "    <tr>\n",
              "      <th>4</th>\n",
              "      <td>1876-03-04</td>\n",
              "      <td>Scotland</td>\n",
              "      <td>England</td>\n",
              "      <td>3</td>\n",
              "      <td>0</td>\n",
              "      <td>Friendly</td>\n",
              "      <td>Glasgow</td>\n",
              "      <td>Scotland</td>\n",
              "      <td>False</td>\n",
              "    </tr>\n",
              "  </tbody>\n",
              "</table>\n",
              "</div>"
            ],
            "text/plain": [
              "         date home_team away_team  ...     city   country neutral\n",
              "0  1872-11-30  Scotland   England  ...  Glasgow  Scotland   False\n",
              "1  1873-03-08   England  Scotland  ...   London   England   False\n",
              "2  1874-03-07  Scotland   England  ...  Glasgow  Scotland   False\n",
              "3  1875-03-06   England  Scotland  ...   London   England   False\n",
              "4  1876-03-04  Scotland   England  ...  Glasgow  Scotland   False\n",
              "\n",
              "[5 rows x 9 columns]"
            ]
          },
          "metadata": {
            "tags": []
          },
          "execution_count": 24
        }
      ]
    },
    {
      "cell_type": "code",
      "metadata": {
        "id": "I4x-2pu33hTc",
        "colab_type": "code",
        "outputId": "6276f9dc-f42a-4a1f-8fc8-71e6010c6bda",
        "colab": {
          "base_uri": "https://localhost:8080/",
          "height": 191
        }
      },
      "source": [
        "# Previewing the bottom of our dataset\n",
        "# \n",
        "df_res.tail()\n",
        "# \n",
        "# This previews the last 5 rows of the ranking dataset to see the distribution of data"
      ],
      "execution_count": 0,
      "outputs": [
        {
          "output_type": "execute_result",
          "data": {
            "text/html": [
              "<div>\n",
              "<style scoped>\n",
              "    .dataframe tbody tr th:only-of-type {\n",
              "        vertical-align: middle;\n",
              "    }\n",
              "\n",
              "    .dataframe tbody tr th {\n",
              "        vertical-align: top;\n",
              "    }\n",
              "\n",
              "    .dataframe thead th {\n",
              "        text-align: right;\n",
              "    }\n",
              "</style>\n",
              "<table border=\"1\" class=\"dataframe\">\n",
              "  <thead>\n",
              "    <tr style=\"text-align: right;\">\n",
              "      <th></th>\n",
              "      <th>date</th>\n",
              "      <th>home_team</th>\n",
              "      <th>away_team</th>\n",
              "      <th>home_score</th>\n",
              "      <th>away_score</th>\n",
              "      <th>tournament</th>\n",
              "      <th>city</th>\n",
              "      <th>country</th>\n",
              "      <th>neutral</th>\n",
              "    </tr>\n",
              "  </thead>\n",
              "  <tbody>\n",
              "    <tr>\n",
              "      <th>40834</th>\n",
              "      <td>2019-07-18</td>\n",
              "      <td>American Samoa</td>\n",
              "      <td>Tahiti</td>\n",
              "      <td>8</td>\n",
              "      <td>1</td>\n",
              "      <td>Pacific Games</td>\n",
              "      <td>Apia</td>\n",
              "      <td>Samoa</td>\n",
              "      <td>True</td>\n",
              "    </tr>\n",
              "    <tr>\n",
              "      <th>40835</th>\n",
              "      <td>2019-07-18</td>\n",
              "      <td>Fiji</td>\n",
              "      <td>Solomon Islands</td>\n",
              "      <td>4</td>\n",
              "      <td>4</td>\n",
              "      <td>Pacific Games</td>\n",
              "      <td>Apia</td>\n",
              "      <td>Samoa</td>\n",
              "      <td>True</td>\n",
              "    </tr>\n",
              "    <tr>\n",
              "      <th>40836</th>\n",
              "      <td>2019-07-19</td>\n",
              "      <td>Senegal</td>\n",
              "      <td>Algeria</td>\n",
              "      <td>0</td>\n",
              "      <td>1</td>\n",
              "      <td>African Cup of Nations</td>\n",
              "      <td>Cairo</td>\n",
              "      <td>Egypt</td>\n",
              "      <td>True</td>\n",
              "    </tr>\n",
              "    <tr>\n",
              "      <th>40837</th>\n",
              "      <td>2019-07-19</td>\n",
              "      <td>Tajikistan</td>\n",
              "      <td>North Korea</td>\n",
              "      <td>0</td>\n",
              "      <td>1</td>\n",
              "      <td>Intercontinental Cup</td>\n",
              "      <td>Ahmedabad</td>\n",
              "      <td>India</td>\n",
              "      <td>True</td>\n",
              "    </tr>\n",
              "    <tr>\n",
              "      <th>40838</th>\n",
              "      <td>2019-07-20</td>\n",
              "      <td>Papua New Guinea</td>\n",
              "      <td>Fiji</td>\n",
              "      <td>1</td>\n",
              "      <td>1</td>\n",
              "      <td>Pacific Games</td>\n",
              "      <td>Apia</td>\n",
              "      <td>Samoa</td>\n",
              "      <td>True</td>\n",
              "    </tr>\n",
              "  </tbody>\n",
              "</table>\n",
              "</div>"
            ],
            "text/plain": [
              "             date         home_team  ... country  neutral\n",
              "40834  2019-07-18    American Samoa  ...   Samoa     True\n",
              "40835  2019-07-18              Fiji  ...   Samoa     True\n",
              "40836  2019-07-19           Senegal  ...   Egypt     True\n",
              "40837  2019-07-19        Tajikistan  ...   India     True\n",
              "40838  2019-07-20  Papua New Guinea  ...   Samoa     True\n",
              "\n",
              "[5 rows x 9 columns]"
            ]
          },
          "metadata": {
            "tags": []
          },
          "execution_count": 25
        }
      ]
    },
    {
      "cell_type": "code",
      "metadata": {
        "id": "e4ivJt4K3pGV",
        "colab_type": "code",
        "outputId": "c2e90696-f432-4ea7-f722-af3db366fcbb",
        "colab": {
          "base_uri": "https://localhost:8080/",
          "height": 180
        }
      },
      "source": [
        "# checking different data types within the dataset\n",
        "df_res.dtypes\n",
        "# since our main objective is to predict the score of a game, we will have to convert the data to numeric dataset\n",
        "# which machine learning works with"
      ],
      "execution_count": 0,
      "outputs": [
        {
          "output_type": "execute_result",
          "data": {
            "text/plain": [
              "date          object\n",
              "home_team     object\n",
              "away_team     object\n",
              "home_score     int64\n",
              "away_score     int64\n",
              "tournament    object\n",
              "city          object\n",
              "country       object\n",
              "neutral         bool\n",
              "dtype: object"
            ]
          },
          "metadata": {
            "tags": []
          },
          "execution_count": 26
        }
      ]
    },
    {
      "cell_type": "code",
      "metadata": {
        "id": "9henL2tc3yVF",
        "colab_type": "code",
        "outputId": "835e1235-8f6f-4c40-ea18-d82bfc30b0ed",
        "colab": {
          "base_uri": "https://localhost:8080/",
          "height": 277
        }
      },
      "source": [
        "# Previewing statistical summaries about the fifa_ranking dataset\n",
        "# \n",
        "df_res.describe()\n",
        "# This gives summary statistics of numeric columns.\n",
        "# From the analysis, the maximum number of scores by the ome_team was 31 with the away_team having  maximum of 21 goals"
      ],
      "execution_count": 0,
      "outputs": [
        {
          "output_type": "execute_result",
          "data": {
            "text/html": [
              "<div>\n",
              "<style scoped>\n",
              "    .dataframe tbody tr th:only-of-type {\n",
              "        vertical-align: middle;\n",
              "    }\n",
              "\n",
              "    .dataframe tbody tr th {\n",
              "        vertical-align: top;\n",
              "    }\n",
              "\n",
              "    .dataframe thead th {\n",
              "        text-align: right;\n",
              "    }\n",
              "</style>\n",
              "<table border=\"1\" class=\"dataframe\">\n",
              "  <thead>\n",
              "    <tr style=\"text-align: right;\">\n",
              "      <th></th>\n",
              "      <th>home_score</th>\n",
              "      <th>away_score</th>\n",
              "    </tr>\n",
              "  </thead>\n",
              "  <tbody>\n",
              "    <tr>\n",
              "      <th>count</th>\n",
              "      <td>40839.000000</td>\n",
              "      <td>40839.000000</td>\n",
              "    </tr>\n",
              "    <tr>\n",
              "      <th>mean</th>\n",
              "      <td>1.745709</td>\n",
              "      <td>1.188105</td>\n",
              "    </tr>\n",
              "    <tr>\n",
              "      <th>std</th>\n",
              "      <td>1.749145</td>\n",
              "      <td>1.405120</td>\n",
              "    </tr>\n",
              "    <tr>\n",
              "      <th>min</th>\n",
              "      <td>0.000000</td>\n",
              "      <td>0.000000</td>\n",
              "    </tr>\n",
              "    <tr>\n",
              "      <th>25%</th>\n",
              "      <td>1.000000</td>\n",
              "      <td>0.000000</td>\n",
              "    </tr>\n",
              "    <tr>\n",
              "      <th>50%</th>\n",
              "      <td>1.000000</td>\n",
              "      <td>1.000000</td>\n",
              "    </tr>\n",
              "    <tr>\n",
              "      <th>75%</th>\n",
              "      <td>2.000000</td>\n",
              "      <td>2.000000</td>\n",
              "    </tr>\n",
              "    <tr>\n",
              "      <th>max</th>\n",
              "      <td>31.000000</td>\n",
              "      <td>21.000000</td>\n",
              "    </tr>\n",
              "  </tbody>\n",
              "</table>\n",
              "</div>"
            ],
            "text/plain": [
              "         home_score    away_score\n",
              "count  40839.000000  40839.000000\n",
              "mean       1.745709      1.188105\n",
              "std        1.749145      1.405120\n",
              "min        0.000000      0.000000\n",
              "25%        1.000000      0.000000\n",
              "50%        1.000000      1.000000\n",
              "75%        2.000000      2.000000\n",
              "max       31.000000     21.000000"
            ]
          },
          "metadata": {
            "tags": []
          },
          "execution_count": 27
        }
      ]
    },
    {
      "cell_type": "markdown",
      "metadata": {
        "id": "31UADwtz4ypu",
        "colab_type": "text"
      },
      "source": [
        "# Tidying dataset(2)"
      ]
    },
    {
      "cell_type": "code",
      "metadata": {
        "id": "MihCOL3239y5",
        "colab_type": "code",
        "outputId": "f536bd25-3968-4e75-c367-36ffbd4ba1a0",
        "colab": {
          "base_uri": "https://localhost:8080/",
          "height": 180
        }
      },
      "source": [
        "# checking for missing data in the dataset\n",
        "df_res.isnull().sum()\n",
        "# there is no missing data as per the analysis"
      ],
      "execution_count": 0,
      "outputs": [
        {
          "output_type": "execute_result",
          "data": {
            "text/plain": [
              "date          0\n",
              "home_team     0\n",
              "away_team     0\n",
              "home_score    0\n",
              "away_score    0\n",
              "tournament    0\n",
              "city          0\n",
              "country       0\n",
              "neutral       0\n",
              "dtype: int64"
            ]
          },
          "metadata": {
            "tags": []
          },
          "execution_count": 28
        }
      ]
    },
    {
      "cell_type": "code",
      "metadata": {
        "id": "Env04T8h6RSG",
        "colab_type": "code",
        "outputId": "92c8d2a7-4216-4c9a-faba-1068672cd3f7",
        "colab": {
          "base_uri": "https://localhost:8080/",
          "height": 33
        }
      },
      "source": [
        "# Checking for Anomalities\n",
        "# involves checking for duplicates\n",
        "# \n",
        "print(df_res.duplicated().any())\n",
        "# This shows that there are no duplicated entries"
      ],
      "execution_count": 0,
      "outputs": [
        {
          "output_type": "stream",
          "text": [
            "False\n"
          ],
          "name": "stdout"
        }
      ]
    },
    {
      "cell_type": "code",
      "metadata": {
        "id": "OD2r960W6dDV",
        "colab_type": "code",
        "outputId": "85480099-3a5e-46af-8a35-ec657af4c762",
        "colab": {
          "base_uri": "https://localhost:8080/",
          "height": 191
        }
      },
      "source": [
        "# More data cleaning procedures\n",
        "# Dropping of unnecessary columns\n",
        "df1_res= df_res.drop(['city',], axis=1)\n",
        "df1_res.head()"
      ],
      "execution_count": 0,
      "outputs": [
        {
          "output_type": "execute_result",
          "data": {
            "text/html": [
              "<div>\n",
              "<style scoped>\n",
              "    .dataframe tbody tr th:only-of-type {\n",
              "        vertical-align: middle;\n",
              "    }\n",
              "\n",
              "    .dataframe tbody tr th {\n",
              "        vertical-align: top;\n",
              "    }\n",
              "\n",
              "    .dataframe thead th {\n",
              "        text-align: right;\n",
              "    }\n",
              "</style>\n",
              "<table border=\"1\" class=\"dataframe\">\n",
              "  <thead>\n",
              "    <tr style=\"text-align: right;\">\n",
              "      <th></th>\n",
              "      <th>date</th>\n",
              "      <th>home_team</th>\n",
              "      <th>away_team</th>\n",
              "      <th>home_score</th>\n",
              "      <th>away_score</th>\n",
              "      <th>tournament</th>\n",
              "      <th>country</th>\n",
              "      <th>neutral</th>\n",
              "    </tr>\n",
              "  </thead>\n",
              "  <tbody>\n",
              "    <tr>\n",
              "      <th>0</th>\n",
              "      <td>1872-11-30</td>\n",
              "      <td>Scotland</td>\n",
              "      <td>England</td>\n",
              "      <td>0</td>\n",
              "      <td>0</td>\n",
              "      <td>Friendly</td>\n",
              "      <td>Scotland</td>\n",
              "      <td>False</td>\n",
              "    </tr>\n",
              "    <tr>\n",
              "      <th>1</th>\n",
              "      <td>1873-03-08</td>\n",
              "      <td>England</td>\n",
              "      <td>Scotland</td>\n",
              "      <td>4</td>\n",
              "      <td>2</td>\n",
              "      <td>Friendly</td>\n",
              "      <td>England</td>\n",
              "      <td>False</td>\n",
              "    </tr>\n",
              "    <tr>\n",
              "      <th>2</th>\n",
              "      <td>1874-03-07</td>\n",
              "      <td>Scotland</td>\n",
              "      <td>England</td>\n",
              "      <td>2</td>\n",
              "      <td>1</td>\n",
              "      <td>Friendly</td>\n",
              "      <td>Scotland</td>\n",
              "      <td>False</td>\n",
              "    </tr>\n",
              "    <tr>\n",
              "      <th>3</th>\n",
              "      <td>1875-03-06</td>\n",
              "      <td>England</td>\n",
              "      <td>Scotland</td>\n",
              "      <td>2</td>\n",
              "      <td>2</td>\n",
              "      <td>Friendly</td>\n",
              "      <td>England</td>\n",
              "      <td>False</td>\n",
              "    </tr>\n",
              "    <tr>\n",
              "      <th>4</th>\n",
              "      <td>1876-03-04</td>\n",
              "      <td>Scotland</td>\n",
              "      <td>England</td>\n",
              "      <td>3</td>\n",
              "      <td>0</td>\n",
              "      <td>Friendly</td>\n",
              "      <td>Scotland</td>\n",
              "      <td>False</td>\n",
              "    </tr>\n",
              "  </tbody>\n",
              "</table>\n",
              "</div>"
            ],
            "text/plain": [
              "         date home_team away_team  ...  tournament   country neutral\n",
              "0  1872-11-30  Scotland   England  ...    Friendly  Scotland   False\n",
              "1  1873-03-08   England  Scotland  ...    Friendly   England   False\n",
              "2  1874-03-07  Scotland   England  ...    Friendly  Scotland   False\n",
              "3  1875-03-06   England  Scotland  ...    Friendly   England   False\n",
              "4  1876-03-04  Scotland   England  ...    Friendly  Scotland   False\n",
              "\n",
              "[5 rows x 8 columns]"
            ]
          },
          "metadata": {
            "tags": []
          },
          "execution_count": 31
        }
      ]
    },
    {
      "cell_type": "markdown",
      "metadata": {
        "id": "3uoMsFqAJd-Y",
        "colab_type": "text"
      },
      "source": [
        "# Getting appropriate data for the analysis(dataset2)"
      ]
    },
    {
      "cell_type": "code",
      "metadata": {
        "id": "I4cS1p9r7Q2i",
        "colab_type": "code",
        "colab": {}
      },
      "source": [
        "# changing date from object to datetime \n",
        "# \n",
        "df1_res['date'] = pd.to_datetime(df1_res['date'])"
      ],
      "execution_count": 0,
      "outputs": []
    },
    {
      "cell_type": "code",
      "metadata": {
        "id": "j7YoQuBEL7v_",
        "colab_type": "code",
        "outputId": "baac4942-21bc-4b3f-bcc9-8d5742570075",
        "colab": {
          "base_uri": "https://localhost:8080/",
          "height": 191
        }
      },
      "source": [
        "# Creating a year and month column \n",
        "df1_res['year'] = df1_res.date.dt.year\n",
        "df1_res['month'] = df1_res.date.dt.month\n",
        "# \n",
        "# getting data from the year 1993 to match the ranking dataset\n",
        "df2_res = df1_res[df1_res['date'] > '1993-08-08']\n",
        "df2_res.head()"
      ],
      "execution_count": 0,
      "outputs": [
        {
          "output_type": "execute_result",
          "data": {
            "text/html": [
              "<div>\n",
              "<style scoped>\n",
              "    .dataframe tbody tr th:only-of-type {\n",
              "        vertical-align: middle;\n",
              "    }\n",
              "\n",
              "    .dataframe tbody tr th {\n",
              "        vertical-align: top;\n",
              "    }\n",
              "\n",
              "    .dataframe thead th {\n",
              "        text-align: right;\n",
              "    }\n",
              "</style>\n",
              "<table border=\"1\" class=\"dataframe\">\n",
              "  <thead>\n",
              "    <tr style=\"text-align: right;\">\n",
              "      <th></th>\n",
              "      <th>date</th>\n",
              "      <th>home_team</th>\n",
              "      <th>away_team</th>\n",
              "      <th>home_score</th>\n",
              "      <th>away_score</th>\n",
              "      <th>tournament</th>\n",
              "      <th>country</th>\n",
              "      <th>neutral</th>\n",
              "      <th>year</th>\n",
              "      <th>month</th>\n",
              "    </tr>\n",
              "  </thead>\n",
              "  <tbody>\n",
              "    <tr>\n",
              "      <th>17922</th>\n",
              "      <td>1993-08-09</td>\n",
              "      <td>Guinea</td>\n",
              "      <td>Sierra Leone</td>\n",
              "      <td>4</td>\n",
              "      <td>0</td>\n",
              "      <td>Friendly</td>\n",
              "      <td>Guinea</td>\n",
              "      <td>False</td>\n",
              "      <td>1993</td>\n",
              "      <td>8</td>\n",
              "    </tr>\n",
              "    <tr>\n",
              "      <th>17923</th>\n",
              "      <td>1993-08-11</td>\n",
              "      <td>Faroe Islands</td>\n",
              "      <td>Norway</td>\n",
              "      <td>0</td>\n",
              "      <td>7</td>\n",
              "      <td>Friendly</td>\n",
              "      <td>Faroe Islands</td>\n",
              "      <td>False</td>\n",
              "      <td>1993</td>\n",
              "      <td>8</td>\n",
              "    </tr>\n",
              "    <tr>\n",
              "      <th>17924</th>\n",
              "      <td>1993-08-11</td>\n",
              "      <td>Sweden</td>\n",
              "      <td>Switzerland</td>\n",
              "      <td>1</td>\n",
              "      <td>2</td>\n",
              "      <td>Friendly</td>\n",
              "      <td>Sweden</td>\n",
              "      <td>False</td>\n",
              "      <td>1993</td>\n",
              "      <td>8</td>\n",
              "    </tr>\n",
              "    <tr>\n",
              "      <th>17925</th>\n",
              "      <td>1993-08-15</td>\n",
              "      <td>Australia</td>\n",
              "      <td>Canada</td>\n",
              "      <td>2</td>\n",
              "      <td>1</td>\n",
              "      <td>FIFA World Cup qualification</td>\n",
              "      <td>Australia</td>\n",
              "      <td>False</td>\n",
              "      <td>1993</td>\n",
              "      <td>8</td>\n",
              "    </tr>\n",
              "    <tr>\n",
              "      <th>17926</th>\n",
              "      <td>1993-08-15</td>\n",
              "      <td>Bolivia</td>\n",
              "      <td>Ecuador</td>\n",
              "      <td>1</td>\n",
              "      <td>0</td>\n",
              "      <td>FIFA World Cup qualification</td>\n",
              "      <td>Bolivia</td>\n",
              "      <td>False</td>\n",
              "      <td>1993</td>\n",
              "      <td>8</td>\n",
              "    </tr>\n",
              "  </tbody>\n",
              "</table>\n",
              "</div>"
            ],
            "text/plain": [
              "            date      home_team     away_team  ...  neutral  year month\n",
              "17922 1993-08-09         Guinea  Sierra Leone  ...    False  1993     8\n",
              "17923 1993-08-11  Faroe Islands        Norway  ...    False  1993     8\n",
              "17924 1993-08-11         Sweden   Switzerland  ...    False  1993     8\n",
              "17925 1993-08-15      Australia        Canada  ...    False  1993     8\n",
              "17926 1993-08-15        Bolivia       Ecuador  ...    False  1993     8\n",
              "\n",
              "[5 rows x 10 columns]"
            ]
          },
          "metadata": {
            "tags": []
          },
          "execution_count": 33
        }
      ]
    },
    {
      "cell_type": "code",
      "metadata": {
        "id": "6JTUzZ9qMGGH",
        "colab_type": "code",
        "outputId": "9ea7afad-5ce6-4ec6-cb9a-421dc0aad3fe",
        "colab": {
          "base_uri": "https://localhost:8080/",
          "height": 472
        }
      },
      "source": [
        "# taking a check of the years columns to see how the years are distributed\n",
        "# \n",
        "df2_res['year'].value_counts()"
      ],
      "execution_count": 0,
      "outputs": [
        {
          "output_type": "execute_result",
          "data": {
            "text/plain": [
              "2008    1091\n",
              "2011    1081\n",
              "2004    1064\n",
              "2000    1026\n",
              "2001    1018\n",
              "2012    1012\n",
              "2015    1003\n",
              "2007     978\n",
              "2013     966\n",
              "2017     958\n",
              "2003     936\n",
              "2016     926\n",
              "2009     897\n",
              "1997     863\n",
              "2014     859\n",
              "2018     855\n",
              "2010     854\n",
              "2006     838\n",
              "1996     829\n",
              "2005     804\n",
              "2002     752\n",
              "1999     739\n",
              "1998     698\n",
              "1995     641\n",
              "1994     569\n",
              "2019     488\n",
              "1993     172\n",
              "Name: year, dtype: int64"
            ]
          },
          "metadata": {
            "tags": []
          },
          "execution_count": 34
        }
      ]
    },
    {
      "cell_type": "markdown",
      "metadata": {
        "id": "k9KWbZnFNLGr",
        "colab_type": "text"
      },
      "source": [
        "From consideration of the two datasets, i settled on taking the year 2008 to be the basis for my study since it has most entries in the results dataset which has most of the variables used to predict the result of the games.\n",
        "This means getting a subset of data within 2008 only from (df2_res).\n",
        "\n",
        "It also translates to having data from (df1_rank) within year 2008 to be able to merge with the above subset of data"
      ]
    },
    {
      "cell_type": "code",
      "metadata": {
        "id": "nCiV87t6Pq4X",
        "colab_type": "code",
        "outputId": "6a371249-b34c-4a33-cf23-655c864e5d33",
        "colab": {
          "base_uri": "https://localhost:8080/",
          "height": 191
        }
      },
      "source": [
        "# Getting ranking subset within year 2008\n",
        "# \n",
        "rank_sub = df1_rank[df1_rank['year']==2008]\n",
        "rank_sub.head()"
      ],
      "execution_count": 0,
      "outputs": [
        {
          "output_type": "execute_result",
          "data": {
            "text/html": [
              "<div>\n",
              "<style scoped>\n",
              "    .dataframe tbody tr th:only-of-type {\n",
              "        vertical-align: middle;\n",
              "    }\n",
              "\n",
              "    .dataframe tbody tr th {\n",
              "        vertical-align: top;\n",
              "    }\n",
              "\n",
              "    .dataframe thead th {\n",
              "        text-align: right;\n",
              "    }\n",
              "</style>\n",
              "<table border=\"1\" class=\"dataframe\">\n",
              "  <thead>\n",
              "    <tr style=\"text-align: right;\">\n",
              "      <th></th>\n",
              "      <th>rank</th>\n",
              "      <th>country_full</th>\n",
              "      <th>country_abrv</th>\n",
              "      <th>total_points</th>\n",
              "      <th>previous_points</th>\n",
              "      <th>rank_change</th>\n",
              "      <th>confederation</th>\n",
              "      <th>date</th>\n",
              "      <th>year</th>\n",
              "      <th>month</th>\n",
              "    </tr>\n",
              "  </thead>\n",
              "  <tbody>\n",
              "    <tr>\n",
              "      <th>31686</th>\n",
              "      <td>1</td>\n",
              "      <td>Argentina</td>\n",
              "      <td>ARG</td>\n",
              "      <td>0.0</td>\n",
              "      <td>1523.0</td>\n",
              "      <td>0.0</td>\n",
              "      <td>CONMEBOL</td>\n",
              "      <td>2008-01-16</td>\n",
              "      <td>2008.0</td>\n",
              "      <td>1.0</td>\n",
              "    </tr>\n",
              "    <tr>\n",
              "      <th>31687</th>\n",
              "      <td>2</td>\n",
              "      <td>Brazil</td>\n",
              "      <td>BRA</td>\n",
              "      <td>0.0</td>\n",
              "      <td>1502.0</td>\n",
              "      <td>0.0</td>\n",
              "      <td>CONMEBOL</td>\n",
              "      <td>2008-01-16</td>\n",
              "      <td>2008.0</td>\n",
              "      <td>1.0</td>\n",
              "    </tr>\n",
              "    <tr>\n",
              "      <th>31688</th>\n",
              "      <td>3</td>\n",
              "      <td>Italy</td>\n",
              "      <td>ITA</td>\n",
              "      <td>0.0</td>\n",
              "      <td>1498.0</td>\n",
              "      <td>0.0</td>\n",
              "      <td>UEFA</td>\n",
              "      <td>2008-01-16</td>\n",
              "      <td>2008.0</td>\n",
              "      <td>1.0</td>\n",
              "    </tr>\n",
              "    <tr>\n",
              "      <th>31689</th>\n",
              "      <td>4</td>\n",
              "      <td>Spain</td>\n",
              "      <td>ESP</td>\n",
              "      <td>0.0</td>\n",
              "      <td>1349.0</td>\n",
              "      <td>0.0</td>\n",
              "      <td>UEFA</td>\n",
              "      <td>2008-01-16</td>\n",
              "      <td>2008.0</td>\n",
              "      <td>1.0</td>\n",
              "    </tr>\n",
              "    <tr>\n",
              "      <th>31690</th>\n",
              "      <td>5</td>\n",
              "      <td>Germany</td>\n",
              "      <td>GER</td>\n",
              "      <td>0.0</td>\n",
              "      <td>1298.0</td>\n",
              "      <td>0.0</td>\n",
              "      <td>UEFA</td>\n",
              "      <td>2008-01-16</td>\n",
              "      <td>2008.0</td>\n",
              "      <td>1.0</td>\n",
              "    </tr>\n",
              "  </tbody>\n",
              "</table>\n",
              "</div>"
            ],
            "text/plain": [
              "       rank country_full country_abrv  ...       date    year  month\n",
              "31686     1    Argentina          ARG  ... 2008-01-16  2008.0    1.0\n",
              "31687     2       Brazil          BRA  ... 2008-01-16  2008.0    1.0\n",
              "31688     3        Italy          ITA  ... 2008-01-16  2008.0    1.0\n",
              "31689     4        Spain          ESP  ... 2008-01-16  2008.0    1.0\n",
              "31690     5      Germany          GER  ... 2008-01-16  2008.0    1.0\n",
              "\n",
              "[5 rows x 10 columns]"
            ]
          },
          "metadata": {
            "tags": []
          },
          "execution_count": 35
        }
      ]
    },
    {
      "cell_type": "code",
      "metadata": {
        "id": "QA2Z5YuuQAsO",
        "colab_type": "code",
        "outputId": "094fab78-ee08-4ae0-b4b9-5683bc479d2d",
        "colab": {
          "base_uri": "https://localhost:8080/",
          "height": 191
        }
      },
      "source": [
        "# Getting results subset within year 2008\n",
        "# \n",
        "res_sub = df2_res[df2_res['year']==2008]\n",
        "res_sub.head()"
      ],
      "execution_count": 0,
      "outputs": [
        {
          "output_type": "execute_result",
          "data": {
            "text/html": [
              "<div>\n",
              "<style scoped>\n",
              "    .dataframe tbody tr th:only-of-type {\n",
              "        vertical-align: middle;\n",
              "    }\n",
              "\n",
              "    .dataframe tbody tr th {\n",
              "        vertical-align: top;\n",
              "    }\n",
              "\n",
              "    .dataframe thead th {\n",
              "        text-align: right;\n",
              "    }\n",
              "</style>\n",
              "<table border=\"1\" class=\"dataframe\">\n",
              "  <thead>\n",
              "    <tr style=\"text-align: right;\">\n",
              "      <th></th>\n",
              "      <th>date</th>\n",
              "      <th>home_team</th>\n",
              "      <th>away_team</th>\n",
              "      <th>home_score</th>\n",
              "      <th>away_score</th>\n",
              "      <th>tournament</th>\n",
              "      <th>country</th>\n",
              "      <th>neutral</th>\n",
              "      <th>year</th>\n",
              "      <th>month</th>\n",
              "    </tr>\n",
              "  </thead>\n",
              "  <tbody>\n",
              "    <tr>\n",
              "      <th>29849</th>\n",
              "      <td>2008-01-02</td>\n",
              "      <td>Kuwait</td>\n",
              "      <td>Lebanon</td>\n",
              "      <td>3</td>\n",
              "      <td>2</td>\n",
              "      <td>Friendly</td>\n",
              "      <td>Kuwait</td>\n",
              "      <td>False</td>\n",
              "      <td>2008</td>\n",
              "      <td>1</td>\n",
              "    </tr>\n",
              "    <tr>\n",
              "      <th>29850</th>\n",
              "      <td>2008-01-05</td>\n",
              "      <td>Egypt</td>\n",
              "      <td>Namibia</td>\n",
              "      <td>3</td>\n",
              "      <td>0</td>\n",
              "      <td>Friendly</td>\n",
              "      <td>Egypt</td>\n",
              "      <td>False</td>\n",
              "      <td>2008</td>\n",
              "      <td>1</td>\n",
              "    </tr>\n",
              "    <tr>\n",
              "      <th>29851</th>\n",
              "      <td>2008-01-06</td>\n",
              "      <td>Tunisia</td>\n",
              "      <td>Zambia</td>\n",
              "      <td>1</td>\n",
              "      <td>2</td>\n",
              "      <td>Friendly</td>\n",
              "      <td>Tunisia</td>\n",
              "      <td>False</td>\n",
              "      <td>2008</td>\n",
              "      <td>1</td>\n",
              "    </tr>\n",
              "    <tr>\n",
              "      <th>29852</th>\n",
              "      <td>2008-01-08</td>\n",
              "      <td>Tunisia</td>\n",
              "      <td>Zambia</td>\n",
              "      <td>1</td>\n",
              "      <td>0</td>\n",
              "      <td>Friendly</td>\n",
              "      <td>Tunisia</td>\n",
              "      <td>False</td>\n",
              "      <td>2008</td>\n",
              "      <td>1</td>\n",
              "    </tr>\n",
              "    <tr>\n",
              "      <th>29853</th>\n",
              "      <td>2008-01-09</td>\n",
              "      <td>Nigeria</td>\n",
              "      <td>Sudan</td>\n",
              "      <td>2</td>\n",
              "      <td>0</td>\n",
              "      <td>Friendly</td>\n",
              "      <td>Spain</td>\n",
              "      <td>True</td>\n",
              "      <td>2008</td>\n",
              "      <td>1</td>\n",
              "    </tr>\n",
              "  </tbody>\n",
              "</table>\n",
              "</div>"
            ],
            "text/plain": [
              "            date home_team away_team  home_score  ...  country neutral  year  month\n",
              "29849 2008-01-02    Kuwait   Lebanon           3  ...   Kuwait   False  2008      1\n",
              "29850 2008-01-05     Egypt   Namibia           3  ...    Egypt   False  2008      1\n",
              "29851 2008-01-06   Tunisia    Zambia           1  ...  Tunisia   False  2008      1\n",
              "29852 2008-01-08   Tunisia    Zambia           1  ...  Tunisia   False  2008      1\n",
              "29853 2008-01-09   Nigeria     Sudan           2  ...    Spain    True  2008      1\n",
              "\n",
              "[5 rows x 10 columns]"
            ]
          },
          "metadata": {
            "tags": []
          },
          "execution_count": 36
        }
      ]
    },
    {
      "cell_type": "markdown",
      "metadata": {
        "id": "eTLJkYzqPMxX",
        "colab_type": "text"
      },
      "source": [
        "# Merging the datasets"
      ]
    },
    {
      "cell_type": "code",
      "metadata": {
        "id": "qgV3JtCxMMxH",
        "colab_type": "code",
        "outputId": "b51d31cc-9312-4552-cff3-ad6dce8d8c73",
        "colab": {
          "base_uri": "https://localhost:8080/",
          "height": 292
        }
      },
      "source": [
        "# The dataframes have been merged on both year and month\n",
        "#\n",
        "df = pd.merge(res_sub, rank_sub, how = 'left', left_on = ['year', 'month'], right_on = ['year', 'month'])\n",
        "df.head()"
      ],
      "execution_count": 0,
      "outputs": [
        {
          "output_type": "execute_result",
          "data": {
            "text/html": [
              "<div>\n",
              "<style scoped>\n",
              "    .dataframe tbody tr th:only-of-type {\n",
              "        vertical-align: middle;\n",
              "    }\n",
              "\n",
              "    .dataframe tbody tr th {\n",
              "        vertical-align: top;\n",
              "    }\n",
              "\n",
              "    .dataframe thead th {\n",
              "        text-align: right;\n",
              "    }\n",
              "</style>\n",
              "<table border=\"1\" class=\"dataframe\">\n",
              "  <thead>\n",
              "    <tr style=\"text-align: right;\">\n",
              "      <th></th>\n",
              "      <th>date_x</th>\n",
              "      <th>home_team</th>\n",
              "      <th>away_team</th>\n",
              "      <th>home_score</th>\n",
              "      <th>away_score</th>\n",
              "      <th>tournament</th>\n",
              "      <th>country</th>\n",
              "      <th>neutral</th>\n",
              "      <th>year</th>\n",
              "      <th>month</th>\n",
              "      <th>rank</th>\n",
              "      <th>country_full</th>\n",
              "      <th>country_abrv</th>\n",
              "      <th>total_points</th>\n",
              "      <th>previous_points</th>\n",
              "      <th>rank_change</th>\n",
              "      <th>confederation</th>\n",
              "      <th>date_y</th>\n",
              "    </tr>\n",
              "  </thead>\n",
              "  <tbody>\n",
              "    <tr>\n",
              "      <th>0</th>\n",
              "      <td>2008-01-02</td>\n",
              "      <td>Kuwait</td>\n",
              "      <td>Lebanon</td>\n",
              "      <td>3</td>\n",
              "      <td>2</td>\n",
              "      <td>Friendly</td>\n",
              "      <td>Kuwait</td>\n",
              "      <td>False</td>\n",
              "      <td>2008</td>\n",
              "      <td>1</td>\n",
              "      <td>1</td>\n",
              "      <td>Argentina</td>\n",
              "      <td>ARG</td>\n",
              "      <td>0.0</td>\n",
              "      <td>1523.0</td>\n",
              "      <td>0.0</td>\n",
              "      <td>CONMEBOL</td>\n",
              "      <td>2008-01-16</td>\n",
              "    </tr>\n",
              "    <tr>\n",
              "      <th>1</th>\n",
              "      <td>2008-01-02</td>\n",
              "      <td>Kuwait</td>\n",
              "      <td>Lebanon</td>\n",
              "      <td>3</td>\n",
              "      <td>2</td>\n",
              "      <td>Friendly</td>\n",
              "      <td>Kuwait</td>\n",
              "      <td>False</td>\n",
              "      <td>2008</td>\n",
              "      <td>1</td>\n",
              "      <td>2</td>\n",
              "      <td>Brazil</td>\n",
              "      <td>BRA</td>\n",
              "      <td>0.0</td>\n",
              "      <td>1502.0</td>\n",
              "      <td>0.0</td>\n",
              "      <td>CONMEBOL</td>\n",
              "      <td>2008-01-16</td>\n",
              "    </tr>\n",
              "    <tr>\n",
              "      <th>2</th>\n",
              "      <td>2008-01-02</td>\n",
              "      <td>Kuwait</td>\n",
              "      <td>Lebanon</td>\n",
              "      <td>3</td>\n",
              "      <td>2</td>\n",
              "      <td>Friendly</td>\n",
              "      <td>Kuwait</td>\n",
              "      <td>False</td>\n",
              "      <td>2008</td>\n",
              "      <td>1</td>\n",
              "      <td>3</td>\n",
              "      <td>Italy</td>\n",
              "      <td>ITA</td>\n",
              "      <td>0.0</td>\n",
              "      <td>1498.0</td>\n",
              "      <td>0.0</td>\n",
              "      <td>UEFA</td>\n",
              "      <td>2008-01-16</td>\n",
              "    </tr>\n",
              "    <tr>\n",
              "      <th>3</th>\n",
              "      <td>2008-01-02</td>\n",
              "      <td>Kuwait</td>\n",
              "      <td>Lebanon</td>\n",
              "      <td>3</td>\n",
              "      <td>2</td>\n",
              "      <td>Friendly</td>\n",
              "      <td>Kuwait</td>\n",
              "      <td>False</td>\n",
              "      <td>2008</td>\n",
              "      <td>1</td>\n",
              "      <td>4</td>\n",
              "      <td>Spain</td>\n",
              "      <td>ESP</td>\n",
              "      <td>0.0</td>\n",
              "      <td>1349.0</td>\n",
              "      <td>0.0</td>\n",
              "      <td>UEFA</td>\n",
              "      <td>2008-01-16</td>\n",
              "    </tr>\n",
              "    <tr>\n",
              "      <th>4</th>\n",
              "      <td>2008-01-02</td>\n",
              "      <td>Kuwait</td>\n",
              "      <td>Lebanon</td>\n",
              "      <td>3</td>\n",
              "      <td>2</td>\n",
              "      <td>Friendly</td>\n",
              "      <td>Kuwait</td>\n",
              "      <td>False</td>\n",
              "      <td>2008</td>\n",
              "      <td>1</td>\n",
              "      <td>5</td>\n",
              "      <td>Germany</td>\n",
              "      <td>GER</td>\n",
              "      <td>0.0</td>\n",
              "      <td>1298.0</td>\n",
              "      <td>0.0</td>\n",
              "      <td>UEFA</td>\n",
              "      <td>2008-01-16</td>\n",
              "    </tr>\n",
              "  </tbody>\n",
              "</table>\n",
              "</div>"
            ],
            "text/plain": [
              "      date_x home_team away_team  ...  rank_change  confederation     date_y\n",
              "0 2008-01-02    Kuwait   Lebanon  ...          0.0       CONMEBOL 2008-01-16\n",
              "1 2008-01-02    Kuwait   Lebanon  ...          0.0       CONMEBOL 2008-01-16\n",
              "2 2008-01-02    Kuwait   Lebanon  ...          0.0           UEFA 2008-01-16\n",
              "3 2008-01-02    Kuwait   Lebanon  ...          0.0           UEFA 2008-01-16\n",
              "4 2008-01-02    Kuwait   Lebanon  ...          0.0           UEFA 2008-01-16\n",
              "\n",
              "[5 rows x 18 columns]"
            ]
          },
          "metadata": {
            "tags": []
          },
          "execution_count": 37
        }
      ]
    },
    {
      "cell_type": "code",
      "metadata": {
        "id": "MMUtmz5-Qu-C",
        "colab_type": "code",
        "outputId": "d680a4a6-1f2b-45d7-9772-a13d0e5f2626",
        "colab": {
          "base_uri": "https://localhost:8080/",
          "height": 33
        }
      },
      "source": [
        "# checking the number of records\n",
        "# \n",
        "print('Number of records in fifa dataset: ' + str(df.shape))\n"
      ],
      "execution_count": 0,
      "outputs": [
        {
          "output_type": "stream",
          "text": [
            "Number of records in fifa dataset: (225837, 18)\n"
          ],
          "name": "stdout"
        }
      ]
    },
    {
      "cell_type": "code",
      "metadata": {
        "id": "DeXK1KtAQ11V",
        "colab_type": "code",
        "colab": {}
      },
      "source": [
        "# dropping unnecessary columns\n",
        "# \n",
        "cols = ['country_full', 'country_abrv', 'date_y']\n",
        "df.drop(cols, axis = 1, inplace = True)"
      ],
      "execution_count": 0,
      "outputs": []
    },
    {
      "cell_type": "markdown",
      "metadata": {
        "id": "ORUEo0dNK4aH",
        "colab_type": "text"
      },
      "source": [
        "# Feature Engineering\n",
        "\n",
        "This involves creating new variables inorder to improve the model. I hence created an output variable which works through the results(Win,Draw or Loss)"
      ]
    },
    {
      "cell_type": "code",
      "metadata": {
        "id": "lcZHeDZdSX2O",
        "colab_type": "code",
        "outputId": "76abc8e1-e650-45f7-b88e-f52e3db2a03d",
        "colab": {
          "base_uri": "https://localhost:8080/",
          "height": 292
        }
      },
      "source": [
        "df[\"Output\"] = [\"W\" if i[0]>i[1] else \"L\" if i[0]<i[1] else \"D\" for i in zip(df.home_score,df.away_score)]\n",
        "df.head()"
      ],
      "execution_count": 0,
      "outputs": [
        {
          "output_type": "execute_result",
          "data": {
            "text/html": [
              "<div>\n",
              "<style scoped>\n",
              "    .dataframe tbody tr th:only-of-type {\n",
              "        vertical-align: middle;\n",
              "    }\n",
              "\n",
              "    .dataframe tbody tr th {\n",
              "        vertical-align: top;\n",
              "    }\n",
              "\n",
              "    .dataframe thead th {\n",
              "        text-align: right;\n",
              "    }\n",
              "</style>\n",
              "<table border=\"1\" class=\"dataframe\">\n",
              "  <thead>\n",
              "    <tr style=\"text-align: right;\">\n",
              "      <th></th>\n",
              "      <th>date_x</th>\n",
              "      <th>home_team</th>\n",
              "      <th>away_team</th>\n",
              "      <th>home_score</th>\n",
              "      <th>away_score</th>\n",
              "      <th>tournament</th>\n",
              "      <th>country</th>\n",
              "      <th>neutral</th>\n",
              "      <th>year</th>\n",
              "      <th>month</th>\n",
              "      <th>rank</th>\n",
              "      <th>total_points</th>\n",
              "      <th>previous_points</th>\n",
              "      <th>rank_change</th>\n",
              "      <th>confederation</th>\n",
              "      <th>Output</th>\n",
              "    </tr>\n",
              "  </thead>\n",
              "  <tbody>\n",
              "    <tr>\n",
              "      <th>0</th>\n",
              "      <td>2008-01-02</td>\n",
              "      <td>Kuwait</td>\n",
              "      <td>Lebanon</td>\n",
              "      <td>3</td>\n",
              "      <td>2</td>\n",
              "      <td>Friendly</td>\n",
              "      <td>Kuwait</td>\n",
              "      <td>False</td>\n",
              "      <td>2008</td>\n",
              "      <td>1</td>\n",
              "      <td>1</td>\n",
              "      <td>0.0</td>\n",
              "      <td>1523.0</td>\n",
              "      <td>0.0</td>\n",
              "      <td>CONMEBOL</td>\n",
              "      <td>W</td>\n",
              "    </tr>\n",
              "    <tr>\n",
              "      <th>1</th>\n",
              "      <td>2008-01-02</td>\n",
              "      <td>Kuwait</td>\n",
              "      <td>Lebanon</td>\n",
              "      <td>3</td>\n",
              "      <td>2</td>\n",
              "      <td>Friendly</td>\n",
              "      <td>Kuwait</td>\n",
              "      <td>False</td>\n",
              "      <td>2008</td>\n",
              "      <td>1</td>\n",
              "      <td>2</td>\n",
              "      <td>0.0</td>\n",
              "      <td>1502.0</td>\n",
              "      <td>0.0</td>\n",
              "      <td>CONMEBOL</td>\n",
              "      <td>W</td>\n",
              "    </tr>\n",
              "    <tr>\n",
              "      <th>2</th>\n",
              "      <td>2008-01-02</td>\n",
              "      <td>Kuwait</td>\n",
              "      <td>Lebanon</td>\n",
              "      <td>3</td>\n",
              "      <td>2</td>\n",
              "      <td>Friendly</td>\n",
              "      <td>Kuwait</td>\n",
              "      <td>False</td>\n",
              "      <td>2008</td>\n",
              "      <td>1</td>\n",
              "      <td>3</td>\n",
              "      <td>0.0</td>\n",
              "      <td>1498.0</td>\n",
              "      <td>0.0</td>\n",
              "      <td>UEFA</td>\n",
              "      <td>W</td>\n",
              "    </tr>\n",
              "    <tr>\n",
              "      <th>3</th>\n",
              "      <td>2008-01-02</td>\n",
              "      <td>Kuwait</td>\n",
              "      <td>Lebanon</td>\n",
              "      <td>3</td>\n",
              "      <td>2</td>\n",
              "      <td>Friendly</td>\n",
              "      <td>Kuwait</td>\n",
              "      <td>False</td>\n",
              "      <td>2008</td>\n",
              "      <td>1</td>\n",
              "      <td>4</td>\n",
              "      <td>0.0</td>\n",
              "      <td>1349.0</td>\n",
              "      <td>0.0</td>\n",
              "      <td>UEFA</td>\n",
              "      <td>W</td>\n",
              "    </tr>\n",
              "    <tr>\n",
              "      <th>4</th>\n",
              "      <td>2008-01-02</td>\n",
              "      <td>Kuwait</td>\n",
              "      <td>Lebanon</td>\n",
              "      <td>3</td>\n",
              "      <td>2</td>\n",
              "      <td>Friendly</td>\n",
              "      <td>Kuwait</td>\n",
              "      <td>False</td>\n",
              "      <td>2008</td>\n",
              "      <td>1</td>\n",
              "      <td>5</td>\n",
              "      <td>0.0</td>\n",
              "      <td>1298.0</td>\n",
              "      <td>0.0</td>\n",
              "      <td>UEFA</td>\n",
              "      <td>W</td>\n",
              "    </tr>\n",
              "  </tbody>\n",
              "</table>\n",
              "</div>"
            ],
            "text/plain": [
              "      date_x home_team away_team  ...  rank_change  confederation Output\n",
              "0 2008-01-02    Kuwait   Lebanon  ...          0.0       CONMEBOL      W\n",
              "1 2008-01-02    Kuwait   Lebanon  ...          0.0       CONMEBOL      W\n",
              "2 2008-01-02    Kuwait   Lebanon  ...          0.0           UEFA      W\n",
              "3 2008-01-02    Kuwait   Lebanon  ...          0.0           UEFA      W\n",
              "4 2008-01-02    Kuwait   Lebanon  ...          0.0           UEFA      W\n",
              "\n",
              "[5 rows x 16 columns]"
            ]
          },
          "metadata": {
            "tags": []
          },
          "execution_count": 41
        }
      ]
    },
    {
      "cell_type": "markdown",
      "metadata": {
        "id": "bEGUneMlVgh5",
        "colab_type": "text"
      },
      "source": [
        "# Exploratory Data Analysis"
      ]
    },
    {
      "cell_type": "code",
      "metadata": {
        "id": "3LgTtMccSZ7w",
        "colab_type": "code",
        "outputId": "c681f681-73f9-4978-a827-454401b9054e",
        "colab": {
          "base_uri": "https://localhost:8080/",
          "height": 311
        }
      },
      "source": [
        "# plotting a bar chart to visualize the output column\n",
        "df['Output'].value_counts().plot(kind='bar')\n",
        "plt.title(\"Score distribution\")\n",
        "plt.xlabel(\"Score labels\")\n",
        "plt.ylabel(\"Count\")"
      ],
      "execution_count": 0,
      "outputs": [
        {
          "output_type": "execute_result",
          "data": {
            "text/plain": [
              "Text(0, 0.5, 'Count')"
            ]
          },
          "metadata": {
            "tags": []
          },
          "execution_count": 44
        },
        {
          "output_type": "display_data",
          "data": {
            "image/png": "[encoded data removed]",
            "text/plain": [
              "<Figure size 432x288 with 1 Axes>"
            ]
          },
          "metadata": {
            "tags": []
          }
        }
      ]
    },
    {
      "cell_type": "markdown",
      "metadata": {
        "id": "YCrn2FBjMXw5",
        "colab_type": "text"
      },
      "source": [
        "From the visualization above, there were more wins"
      ]
    },
    {
      "cell_type": "code",
      "metadata": {
        "id": "Fj_M_fXuM8PS",
        "colab_type": "code",
        "outputId": "d12e8938-45fa-44ab-c434-1f2aeff05784",
        "colab": {
          "base_uri": "https://localhost:8080/",
          "height": 432
        }
      },
      "source": [
        "# plot a histogram to visualize the distribution of home and away scores\n",
        "#\n",
        "fig, axes = plt.subplots(nrows = 1, ncols = 2, figsize = (18, 6))\n",
        "plt.suptitle('Distribution of home and away scores')\n",
        "for ax, data, column, color in zip(axes.flatten(),df, ['home_score', 'away_score'], ['forestgreen', 'midnightblue']):\n",
        "  sns.distplot(df[column], ax = ax, hist = True, color = color)\n",
        "  ax.set_facecolor('lavender')"
      ],
      "execution_count": 0,
      "outputs": [
        {
          "output_type": "display_data",
          "data": {
            "image/png": "[encoded data removed]",
            "text/plain": [
              "<Figure size 1296x432 with 2 Axes>"
            ]
          },
          "metadata": {
            "tags": []
          }
        }
      ]
    },
    {
      "cell_type": "markdown",
      "metadata": {
        "id": "XBDpUf25N0Bp",
        "colab_type": "text"
      },
      "source": [
        "Clearly shown that the scores are skeewed to one side. "
      ]
    },
    {
      "cell_type": "markdown",
      "metadata": {
        "id": "r-X4xk6qO_NO",
        "colab_type": "text"
      },
      "source": [
        "# Implementing the solution"
      ]
    },
    {
      "cell_type": "markdown",
      "metadata": {
        "id": "TRB_nJ_OPIMy",
        "colab_type": "text"
      },
      "source": [
        "Approach 1: Using Polynomial Regression"
      ]
    },
    {
      "cell_type": "code",
      "metadata": {
        "id": "h9uCXuvyOjtY",
        "colab_type": "code",
        "outputId": "e3c3c2cd-49f5-4436-a60f-f8c7b1a151cb",
        "colab": {
          "base_uri": "https://localhost:8080/",
          "height": 191
        }
      },
      "source": [
        "# To be able to create a model, we need to select columns relevant to the reasearch question\n",
        "#\n",
        "df1 =df[['home_team',\t'away_team','home_score',\t'away_score',\t'tournament', 'rank']]\n",
        "df1.head()"
      ],
      "execution_count": 0,
      "outputs": [
        {
          "output_type": "execute_result",
          "data": {
            "text/html": [
              "<div>\n",
              "<style scoped>\n",
              "    .dataframe tbody tr th:only-of-type {\n",
              "        vertical-align: middle;\n",
              "    }\n",
              "\n",
              "    .dataframe tbody tr th {\n",
              "        vertical-align: top;\n",
              "    }\n",
              "\n",
              "    .dataframe thead th {\n",
              "        text-align: right;\n",
              "    }\n",
              "</style>\n",
              "<table border=\"1\" class=\"dataframe\">\n",
              "  <thead>\n",
              "    <tr style=\"text-align: right;\">\n",
              "      <th></th>\n",
              "      <th>home_team</th>\n",
              "      <th>away_team</th>\n",
              "      <th>home_score</th>\n",
              "      <th>away_score</th>\n",
              "      <th>tournament</th>\n",
              "      <th>rank</th>\n",
              "    </tr>\n",
              "  </thead>\n",
              "  <tbody>\n",
              "    <tr>\n",
              "      <th>0</th>\n",
              "      <td>Kuwait</td>\n",
              "      <td>Lebanon</td>\n",
              "      <td>3</td>\n",
              "      <td>2</td>\n",
              "      <td>Friendly</td>\n",
              "      <td>1</td>\n",
              "    </tr>\n",
              "    <tr>\n",
              "      <th>1</th>\n",
              "      <td>Kuwait</td>\n",
              "      <td>Lebanon</td>\n",
              "      <td>3</td>\n",
              "      <td>2</td>\n",
              "      <td>Friendly</td>\n",
              "      <td>2</td>\n",
              "    </tr>\n",
              "    <tr>\n",
              "      <th>2</th>\n",
              "      <td>Kuwait</td>\n",
              "      <td>Lebanon</td>\n",
              "      <td>3</td>\n",
              "      <td>2</td>\n",
              "      <td>Friendly</td>\n",
              "      <td>3</td>\n",
              "    </tr>\n",
              "    <tr>\n",
              "      <th>3</th>\n",
              "      <td>Kuwait</td>\n",
              "      <td>Lebanon</td>\n",
              "      <td>3</td>\n",
              "      <td>2</td>\n",
              "      <td>Friendly</td>\n",
              "      <td>4</td>\n",
              "    </tr>\n",
              "    <tr>\n",
              "      <th>4</th>\n",
              "      <td>Kuwait</td>\n",
              "      <td>Lebanon</td>\n",
              "      <td>3</td>\n",
              "      <td>2</td>\n",
              "      <td>Friendly</td>\n",
              "      <td>5</td>\n",
              "    </tr>\n",
              "  </tbody>\n",
              "</table>\n",
              "</div>"
            ],
            "text/plain": [
              "  home_team away_team  home_score  away_score tournament  rank\n",
              "0    Kuwait   Lebanon           3           2   Friendly     1\n",
              "1    Kuwait   Lebanon           3           2   Friendly     2\n",
              "2    Kuwait   Lebanon           3           2   Friendly     3\n",
              "3    Kuwait   Lebanon           3           2   Friendly     4\n",
              "4    Kuwait   Lebanon           3           2   Friendly     5"
            ]
          },
          "metadata": {
            "tags": []
          },
          "execution_count": 51
        }
      ]
    },
    {
      "cell_type": "markdown",
      "metadata": {
        "id": "7KYb1DpSQW8_",
        "colab_type": "text"
      },
      "source": [
        "Testing for multicollinearity involves checking if the variables are highly correlated to each other"
      ]
    },
    {
      "cell_type": "code",
      "metadata": {
        "id": "WsVbgvXCQPDv",
        "colab_type": "code",
        "outputId": "e0be77bb-c49e-491a-a739-e8eeb994b8b3",
        "colab": {
          "base_uri": "https://localhost:8080/",
          "height": 133
        }
      },
      "source": [
        "# Doing correlation\n",
        "# \n",
        "corr = df1.corr()\n",
        "corr"
      ],
      "execution_count": 0,
      "outputs": [
        {
          "output_type": "execute_result",
          "data": {
            "text/html": [
              "<div>\n",
              "<style scoped>\n",
              "    .dataframe tbody tr th:only-of-type {\n",
              "        vertical-align: middle;\n",
              "    }\n",
              "\n",
              "    .dataframe tbody tr th {\n",
              "        vertical-align: top;\n",
              "    }\n",
              "\n",
              "    .dataframe thead th {\n",
              "        text-align: right;\n",
              "    }\n",
              "</style>\n",
              "<table border=\"1\" class=\"dataframe\">\n",
              "  <thead>\n",
              "    <tr style=\"text-align: right;\">\n",
              "      <th></th>\n",
              "      <th>home_score</th>\n",
              "      <th>away_score</th>\n",
              "      <th>rank</th>\n",
              "    </tr>\n",
              "  </thead>\n",
              "  <tbody>\n",
              "    <tr>\n",
              "      <th>home_score</th>\n",
              "      <td>1.000000</td>\n",
              "      <td>-0.143110</td>\n",
              "      <td>0.000003</td>\n",
              "    </tr>\n",
              "    <tr>\n",
              "      <th>away_score</th>\n",
              "      <td>-0.143110</td>\n",
              "      <td>1.000000</td>\n",
              "      <td>0.000018</td>\n",
              "    </tr>\n",
              "    <tr>\n",
              "      <th>rank</th>\n",
              "      <td>0.000003</td>\n",
              "      <td>0.000018</td>\n",
              "      <td>1.000000</td>\n",
              "    </tr>\n",
              "  </tbody>\n",
              "</table>\n",
              "</div>"
            ],
            "text/plain": [
              "            home_score  away_score      rank\n",
              "home_score    1.000000   -0.143110  0.000003\n",
              "away_score   -0.143110    1.000000  0.000018\n",
              "rank          0.000003    0.000018  1.000000"
            ]
          },
          "metadata": {
            "tags": []
          },
          "execution_count": 53
        }
      ]
    },
    {
      "cell_type": "markdown",
      "metadata": {
        "id": "V_AhxXUVQ5p4",
        "colab_type": "text"
      },
      "source": [
        "There's a high correlation between a variable and itself. The other variables are also related to each other but not highly correlated"
      ]
    },
    {
      "cell_type": "code",
      "metadata": {
        "id": "F-A6LTQSQuuN",
        "colab_type": "code",
        "outputId": "6a7a5f7b-02aa-41bc-b4c1-a9ece512ab03",
        "colab": {
          "base_uri": "https://localhost:8080/",
          "height": 133
        }
      },
      "source": [
        "# Creating a dataframe of the VIF\n",
        "VIF = pd.DataFrame(np.linalg.inv(corr.values), index = corr.index, columns = corr.columns)\n",
        "VIF"
      ],
      "execution_count": 0,
      "outputs": [
        {
          "output_type": "execute_result",
          "data": {
            "text/html": [
              "<div>\n",
              "<style scoped>\n",
              "    .dataframe tbody tr th:only-of-type {\n",
              "        vertical-align: middle;\n",
              "    }\n",
              "\n",
              "    .dataframe tbody tr th {\n",
              "        vertical-align: top;\n",
              "    }\n",
              "\n",
              "    .dataframe thead th {\n",
              "        text-align: right;\n",
              "    }\n",
              "</style>\n",
              "<table border=\"1\" class=\"dataframe\">\n",
              "  <thead>\n",
              "    <tr style=\"text-align: right;\">\n",
              "      <th></th>\n",
              "      <th>home_score</th>\n",
              "      <th>away_score</th>\n",
              "      <th>rank</th>\n",
              "    </tr>\n",
              "  </thead>\n",
              "  <tbody>\n",
              "    <tr>\n",
              "      <th>home_score</th>\n",
              "      <td>1.020909</td>\n",
              "      <td>0.146102</td>\n",
              "      <td>-0.000005</td>\n",
              "    </tr>\n",
              "    <tr>\n",
              "      <th>away_score</th>\n",
              "      <td>0.146102</td>\n",
              "      <td>1.020909</td>\n",
              "      <td>-0.000019</td>\n",
              "    </tr>\n",
              "    <tr>\n",
              "      <th>rank</th>\n",
              "      <td>-0.000005</td>\n",
              "      <td>-0.000019</td>\n",
              "      <td>1.000000</td>\n",
              "    </tr>\n",
              "  </tbody>\n",
              "</table>\n",
              "</div>"
            ],
            "text/plain": [
              "            home_score  away_score      rank\n",
              "home_score    1.020909    0.146102 -0.000005\n",
              "away_score    0.146102    1.020909 -0.000019\n",
              "rank         -0.000005   -0.000019  1.000000"
            ]
          },
          "metadata": {
            "tags": []
          },
          "execution_count": 55
        }
      ]
    },
    {
      "cell_type": "code",
      "metadata": {
        "id": "P7XNzXRqRVlY",
        "colab_type": "code",
        "outputId": "acf1c249-2037-438f-cdce-a04d1b149e6a",
        "colab": {
          "base_uri": "https://localhost:8080/",
          "height": 375
        }
      },
      "source": [
        "# Creating a heatmap to visualize the VIF calculated above\n",
        "# \n",
        "plt.figure(figsize = (10, 6))\n",
        "sns.heatmap(VIF, annot = True)\n",
        "plt.show()"
      ],
      "execution_count": 0,
      "outputs": [
        {
          "output_type": "display_data",
          "data": {
            "image/png": "[encoded data removed]",
            "text/plain": [
              "<Figure size 720x432 with 2 Axes>"
            ]
          },
          "metadata": {
            "tags": []
          }
        }
      ]
    },
    {
      "cell_type": "markdown",
      "metadata": {
        "id": "Z8xBZDugRo8V",
        "colab_type": "text"
      },
      "source": [
        "**Creating a polynimial model to work out the data**"
      ]
    },
    {
      "cell_type": "code",
      "metadata": {
        "id": "fedB8P1HRjJx",
        "colab_type": "code",
        "outputId": "b4eabdd0-abf2-4cd3-a44d-3d01b1779eb6",
        "colab": {
          "base_uri": "https://localhost:8080/",
          "height": 33
        }
      },
      "source": [
        "X = df1.iloc[:, [0, 1, 3, 4, 5]]\n",
        "y = df1.home_score\n",
        "\n",
        "# Encoding categorical variables\n",
        "X = pd.get_dummies(X, drop_first=True)\n",
        "\n",
        "# Splitting the dataset into training and testing sets\n",
        "X_train, X_test, y_train, y_test = train_test_split(X, y, test_size = 0.2, random_state = 101)\n",
        "\n",
        "# Standardising the X_train and the X_test to the same scale\n",
        "sc = StandardScaler()\n",
        "X_train = sc.fit_transform(X_train)\n",
        "X_test = sc.transform(X_test)\n",
        "\n",
        "# Fitting the polynomial features to the X_train and X_test\n",
        "poly_features = PolynomialFeatures(degree = 1)\n",
        "X_train = poly_features.fit_transform(X_train)\n",
        "X_test = poly_features.fit_transform(X_test)\n",
        "\n",
        "# Training the model\n",
        "regressor = LinearRegression()\n",
        "regressor.fit(X_train, y_train)\n",
        "\n",
        "# Making predictions\n",
        "y_pred = regressor.predict(X_test)\n",
        "\n",
        "# Measuring the accuracy of the model\n",
        "np.sqrt(mean_squared_error(y_test, y_pred))"
      ],
      "execution_count": 0,
      "outputs": [
        {
          "output_type": "execute_result",
          "data": {
            "text/plain": [
              "0.9925498694962196"
            ]
          },
          "metadata": {
            "tags": []
          },
          "execution_count": 62
        }
      ]
    },
    {
      "cell_type": "markdown",
      "metadata": {
        "id": "WOuSGEKSTbKb",
        "colab_type": "text"
      },
      "source": [
        "The value above is the RMSE which measures the model. A lower RMSE translates to a good model hence our model can be userd to predict the result of a game"
      ]
    },
    {
      "cell_type": "markdown",
      "metadata": {
        "id": "atOWFwWLWoxA",
        "colab_type": "text"
      },
      "source": [
        "Performing heteroscedasticity"
      ]
    },
    {
      "cell_type": "code",
      "metadata": {
        "id": "ekxzZKrPWf1-",
        "colab_type": "code",
        "colab": {
          "base_uri": "https://localhost:8080/",
          "height": 295
        },
        "outputId": "148be629-0461-4808-ebcb-dba3edaf97c5"
      },
      "source": [
        "# Plotting the residual plot\n",
        "# Residuals have been calculated by by substracting the test value from the predicted value\n",
        "residuals = np.subtract(y_pred, y_test)\n",
        "\n",
        "# Plotting the residual scatterplot\n",
        "plt.scatter(y_pred, residuals, color='green')\n",
        "plt.title('Residual Plot')\n",
        "plt.ylabel('residual')\n",
        "plt.xlabel('fitted values')\n",
        "plt.axhline(y= residuals.mean(), color='red', linewidth=1)\n",
        "plt.show()"
      ],
      "execution_count": 67,
      "outputs": [
        {
          "output_type": "display_data",
          "data": {
            "image/png": "[encoded data removed]",
            "text/plain": [
              "<Figure size 432x288 with 1 Axes>"
            ]
          },
          "metadata": {
            "tags": []
          }
        }
      ]
    },
    {
      "cell_type": "markdown",
      "metadata": {
        "id": "gcRV-Fm-XIYs",
        "colab_type": "text"
      },
      "source": [
        "Homoscedasticity describes the case where the variance of errors or the model is not the same for all observations\n",
        "I used Bartlett's Test to perform the test"
      ]
    },
    {
      "cell_type": "code",
      "metadata": {
        "id": "_g7UAZJPXhc-",
        "colab_type": "code",
        "colab": {
          "base_uri": "https://localhost:8080/",
          "height": 50
        },
        "outputId": "6b5cfda4-5acb-496f-ac00-39e8e429a1f8"
      },
      "source": [
        "test_result, p_value = sp.stats.bartlett(y_pred, residuals)\n",
        "# Calculating the critical value of the chi squared distribution, to compare it with the test_result\n",
        "degrees_of_freedom = len(y_pred) - 1\n",
        "prob =  1 - p_value\n",
        "critical_value = sp.stats.chi2.ppf(prob, degrees_of_freedom)\n",
        "\n",
        "# If the test_result is greater than the critical value, then the null hypothesis is\n",
        "# rejected. This means that there are patterns to the variance of the data\n",
        "\n",
        "# Otherwise, if no patterns are identified, null hypothesis is not rejected. This means that \n",
        "# the variance is homogeneous across the dataset\n",
        "\n",
        "if (test_result > critical_value):\n",
        "  print(f'The test result of {np.round(test_result,2)} is greater than the critical value of {np.round(critical_value, 2)}')\n",
        "  print('Thefore the variances are unequal, which means that the model should be reassessed')\n",
        "  print('The variances are heterogenous')\n",
        "else:\n",
        "  print(f'The test result of {np.round(test_result,2)} is less than the critical value of {np.round(critical_value, 2)}')\n",
        "  \n",
        "  print('The variances are homogeneous')"
      ],
      "execution_count": 71,
      "outputs": [
        {
          "output_type": "stream",
          "text": [
            "The test result of 1426.99 is less than the critical value of inf\n",
            "The variances are homogeneous\n"
          ],
          "name": "stdout"
        }
      ]
    },
    {
      "cell_type": "markdown",
      "metadata": {
        "id": "64HI-vRWYkBs",
        "colab_type": "text"
      },
      "source": [
        "Approach 2: Use Logistic Regression"
      ]
    },
    {
      "cell_type": "code",
      "metadata": {
        "id": "jdyWN-vKZVG5",
        "colab_type": "code",
        "colab": {
          "base_uri": "https://localhost:8080/",
          "height": 191
        },
        "outputId": "06a8f188-1620-4a4e-b723-cb1e0818ffbc"
      },
      "source": [
        "df1.head()"
      ],
      "execution_count": 73,
      "outputs": [
        {
          "output_type": "execute_result",
          "data": {
            "text/html": [
              "<div>\n",
              "<style scoped>\n",
              "    .dataframe tbody tr th:only-of-type {\n",
              "        vertical-align: middle;\n",
              "    }\n",
              "\n",
              "    .dataframe tbody tr th {\n",
              "        vertical-align: top;\n",
              "    }\n",
              "\n",
              "    .dataframe thead th {\n",
              "        text-align: right;\n",
              "    }\n",
              "</style>\n",
              "<table border=\"1\" class=\"dataframe\">\n",
              "  <thead>\n",
              "    <tr style=\"text-align: right;\">\n",
              "      <th></th>\n",
              "      <th>home_team</th>\n",
              "      <th>away_team</th>\n",
              "      <th>home_score</th>\n",
              "      <th>away_score</th>\n",
              "      <th>tournament</th>\n",
              "      <th>rank</th>\n",
              "    </tr>\n",
              "  </thead>\n",
              "  <tbody>\n",
              "    <tr>\n",
              "      <th>0</th>\n",
              "      <td>Kuwait</td>\n",
              "      <td>Lebanon</td>\n",
              "      <td>3</td>\n",
              "      <td>2</td>\n",
              "      <td>Friendly</td>\n",
              "      <td>1</td>\n",
              "    </tr>\n",
              "    <tr>\n",
              "      <th>1</th>\n",
              "      <td>Kuwait</td>\n",
              "      <td>Lebanon</td>\n",
              "      <td>3</td>\n",
              "      <td>2</td>\n",
              "      <td>Friendly</td>\n",
              "      <td>2</td>\n",
              "    </tr>\n",
              "    <tr>\n",
              "      <th>2</th>\n",
              "      <td>Kuwait</td>\n",
              "      <td>Lebanon</td>\n",
              "      <td>3</td>\n",
              "      <td>2</td>\n",
              "      <td>Friendly</td>\n",
              "      <td>3</td>\n",
              "    </tr>\n",
              "    <tr>\n",
              "      <th>3</th>\n",
              "      <td>Kuwait</td>\n",
              "      <td>Lebanon</td>\n",
              "      <td>3</td>\n",
              "      <td>2</td>\n",
              "      <td>Friendly</td>\n",
              "      <td>4</td>\n",
              "    </tr>\n",
              "    <tr>\n",
              "      <th>4</th>\n",
              "      <td>Kuwait</td>\n",
              "      <td>Lebanon</td>\n",
              "      <td>3</td>\n",
              "      <td>2</td>\n",
              "      <td>Friendly</td>\n",
              "      <td>5</td>\n",
              "    </tr>\n",
              "  </tbody>\n",
              "</table>\n",
              "</div>"
            ],
            "text/plain": [
              "  home_team away_team  home_score  away_score tournament  rank\n",
              "0    Kuwait   Lebanon           3           2   Friendly     1\n",
              "1    Kuwait   Lebanon           3           2   Friendly     2\n",
              "2    Kuwait   Lebanon           3           2   Friendly     3\n",
              "3    Kuwait   Lebanon           3           2   Friendly     4\n",
              "4    Kuwait   Lebanon           3           2   Friendly     5"
            ]
          },
          "metadata": {
            "tags": []
          },
          "execution_count": 73
        }
      ]
    },
    {
      "cell_type": "code",
      "metadata": {
        "id": "vDzjB5kQYwGi",
        "colab_type": "code",
        "colab": {
          "base_uri": "https://localhost:8080/",
          "height": 191
        },
        "outputId": "5995d25b-ecb4-4cb8-ba1c-32fdc2b8c64f"
      },
      "source": [
        "# For logistic regression model, we start by choosing the columns we will use in creating a model\n",
        "lg_df = df[['home_team', 'away_team', 'home_score', 'away_score', 'tournament', 'year', 'rank', 'Output']]\n",
        "\n",
        "# Previewing the first five rows of the data\n",
        "lg_df.head()"
      ],
      "execution_count": 75,
      "outputs": [
        {
          "output_type": "execute_result",
          "data": {
            "text/html": [
              "<div>\n",
              "<style scoped>\n",
              "    .dataframe tbody tr th:only-of-type {\n",
              "        vertical-align: middle;\n",
              "    }\n",
              "\n",
              "    .dataframe tbody tr th {\n",
              "        vertical-align: top;\n",
              "    }\n",
              "\n",
              "    .dataframe thead th {\n",
              "        text-align: right;\n",
              "    }\n",
              "</style>\n",
              "<table border=\"1\" class=\"dataframe\">\n",
              "  <thead>\n",
              "    <tr style=\"text-align: right;\">\n",
              "      <th></th>\n",
              "      <th>home_team</th>\n",
              "      <th>away_team</th>\n",
              "      <th>home_score</th>\n",
              "      <th>away_score</th>\n",
              "      <th>tournament</th>\n",
              "      <th>year</th>\n",
              "      <th>rank</th>\n",
              "      <th>Output</th>\n",
              "    </tr>\n",
              "  </thead>\n",
              "  <tbody>\n",
              "    <tr>\n",
              "      <th>0</th>\n",
              "      <td>Kuwait</td>\n",
              "      <td>Lebanon</td>\n",
              "      <td>3</td>\n",
              "      <td>2</td>\n",
              "      <td>Friendly</td>\n",
              "      <td>2008</td>\n",
              "      <td>1</td>\n",
              "      <td>W</td>\n",
              "    </tr>\n",
              "    <tr>\n",
              "      <th>1</th>\n",
              "      <td>Kuwait</td>\n",
              "      <td>Lebanon</td>\n",
              "      <td>3</td>\n",
              "      <td>2</td>\n",
              "      <td>Friendly</td>\n",
              "      <td>2008</td>\n",
              "      <td>2</td>\n",
              "      <td>W</td>\n",
              "    </tr>\n",
              "    <tr>\n",
              "      <th>2</th>\n",
              "      <td>Kuwait</td>\n",
              "      <td>Lebanon</td>\n",
              "      <td>3</td>\n",
              "      <td>2</td>\n",
              "      <td>Friendly</td>\n",
              "      <td>2008</td>\n",
              "      <td>3</td>\n",
              "      <td>W</td>\n",
              "    </tr>\n",
              "    <tr>\n",
              "      <th>3</th>\n",
              "      <td>Kuwait</td>\n",
              "      <td>Lebanon</td>\n",
              "      <td>3</td>\n",
              "      <td>2</td>\n",
              "      <td>Friendly</td>\n",
              "      <td>2008</td>\n",
              "      <td>4</td>\n",
              "      <td>W</td>\n",
              "    </tr>\n",
              "    <tr>\n",
              "      <th>4</th>\n",
              "      <td>Kuwait</td>\n",
              "      <td>Lebanon</td>\n",
              "      <td>3</td>\n",
              "      <td>2</td>\n",
              "      <td>Friendly</td>\n",
              "      <td>2008</td>\n",
              "      <td>5</td>\n",
              "      <td>W</td>\n",
              "    </tr>\n",
              "  </tbody>\n",
              "</table>\n",
              "</div>"
            ],
            "text/plain": [
              "  home_team away_team  home_score  away_score tournament  year  rank Output\n",
              "0    Kuwait   Lebanon           3           2   Friendly  2008     1      W\n",
              "1    Kuwait   Lebanon           3           2   Friendly  2008     2      W\n",
              "2    Kuwait   Lebanon           3           2   Friendly  2008     3      W\n",
              "3    Kuwait   Lebanon           3           2   Friendly  2008     4      W\n",
              "4    Kuwait   Lebanon           3           2   Friendly  2008     5      W"
            ]
          },
          "metadata": {
            "tags": []
          },
          "execution_count": 75
        }
      ]
    },
    {
      "cell_type": "code",
      "metadata": {
        "id": "HiASv7OzZPAa",
        "colab_type": "code",
        "colab": {
          "base_uri": "https://localhost:8080/",
          "height": 241
        },
        "outputId": "e0863145-862e-4c11-b4ca-24f094e07856"
      },
      "source": [
        "# Visualizing the output column to see how the results are distributed\n",
        "\n",
        "plt.figure(figsize = (5, 3))\n",
        "ax = sns.countplot(lg_df.Output)\n",
        "plt.ylabel('Frequency distribution of Output')\n",
        "plt.xlabel('Output')\n",
        "plt.title('Frequency of output')\n",
        "plt.show()"
      ],
      "execution_count": 78,
      "outputs": [
        {
          "output_type": "display_data",
          "data": {
            "image/png": "[encoded data removed]",
            "text/plain": [
              "<Figure size 360x216 with 1 Axes>"
            ]
          },
          "metadata": {
            "tags": []
          }
        }
      ]
    },
    {
      "cell_type": "code",
      "metadata": {
        "id": "ZKWjzAOeZ-Xd",
        "colab_type": "code",
        "colab": {
          "base_uri": "https://localhost:8080/",
          "height": 391
        },
        "outputId": "ff1df759-8d16-426c-e24c-d0c4e360fde0"
      },
      "source": [
        "#  use a heatmap to visualize the correlation between the variables\n",
        "#\n",
        "plt.figure(figsize = (8, 6))\n",
        "sns.heatmap(lg_df.corr(), annot = True) \n",
        "plt.title('Correlation between variables')\n",
        "plt.show()"
      ],
      "execution_count": 79,
      "outputs": [
        {
          "output_type": "display_data",
          "data": {
            "image/png": "[encoded data removed]",
            "text/plain": [
              "<Figure size 576x432 with 2 Axes>"
            ]
          },
          "metadata": {
            "tags": []
          }
        }
      ]
    },
    {
      "cell_type": "markdown",
      "metadata": {
        "id": "WOw7RH2AapEM",
        "colab_type": "text"
      },
      "source": [
        "**Creating a logistic model to perform pediction**"
      ]
    },
    {
      "cell_type": "code",
      "metadata": {
        "id": "AXF7b8KWafy9",
        "colab_type": "code",
        "colab": {
          "base_uri": "https://localhost:8080/",
          "height": 50
        },
        "outputId": "aba0ea75-0b34-47e5-882a-465a0c037a8e"
      },
      "source": [
        "# Spliting the data into features and the target variable\n",
        "X = lg_df.drop('Output', axis = 1)\n",
        "y = lg_df.Output\n",
        "\n",
        "# Encoding the categorical features\n",
        "X = pd.get_dummies(X, drop_first=True)\n",
        "\n",
        "# Spliting the data into training and testing sets\n",
        "X_train, X_test, y_train, y_test = train_test_split(X, y, test_size = 0.25, random_state = 101)\n",
        "\n",
        "# Instantiating the model and training the model\n",
        "logistic = LogisticRegression()\n",
        "logistic.fit(X_train, y_train)\n",
        "\n",
        "# Test and Training Scores\n",
        "score = logistic.score(X_train, y_train)\n",
        "score2 = logistic.score(X_test, y_test)\n",
        "\n",
        "print('Training set accuracy: ', '%.3f'%(score))\n",
        "print('Test set accuracy: ', '%.3f'%(score2))\n",
        "\n",
        "# Making predictions\n",
        "y_pred = logistic.predict(X_test)"
      ],
      "execution_count": 81,
      "outputs": [
        {
          "output_type": "stream",
          "text": [
            "Training set accuracy:  0.999\n",
            "Test set accuracy:  0.999\n"
          ],
          "name": "stdout"
        }
      ]
    },
    {
      "cell_type": "markdown",
      "metadata": {
        "id": "wWlGysBKbkEf",
        "colab_type": "text"
      },
      "source": [
        "From the results above, the model is highly efficient with a score of 99.9%"
      ]
    },
    {
      "cell_type": "code",
      "metadata": {
        "id": "5Wlxc11obUhe",
        "colab_type": "code",
        "colab": {
          "base_uri": "https://localhost:8080/",
          "height": 245
        },
        "outputId": "fb5dc146-905b-458c-fb5f-eae851654b51"
      },
      "source": [
        "# running a confusion matrix to test our model.\n",
        "# Confusion Matrix is a performance measurement for machine learning classification\n",
        "\n",
        "from sklearn.metrics import confusion_matrix as cm,classification_report as cr,accuracy_score as ac\n",
        "print(cm(y_pred,y_test))\n",
        "print(cr(y_pred,y_test))\n",
        "print(ac(y_pred,y_test))"
      ],
      "execution_count": 82,
      "outputs": [
        {
          "output_type": "stream",
          "text": [
            "[[13021     2     0]\n",
            " [    0 15933     0]\n",
            " [   67     0 27437]]\n",
            "              precision    recall  f1-score   support\n",
            "\n",
            "           D       0.99      1.00      1.00     13023\n",
            "           L       1.00      1.00      1.00     15933\n",
            "           W       1.00      1.00      1.00     27504\n",
            "\n",
            "    accuracy                           1.00     56460\n",
            "   macro avg       1.00      1.00      1.00     56460\n",
            "weighted avg       1.00      1.00      1.00     56460\n",
            "\n",
            "0.9987778958554729\n"
          ],
          "name": "stdout"
        }
      ]
    },
    {
      "cell_type": "code",
      "metadata": {
        "id": "GAv1seOrckim",
        "colab_type": "code",
        "colab": {
          "base_uri": "https://localhost:8080/",
          "height": 33
        },
        "outputId": "3f6ce4db-7a4f-4f72-db61-5995a3178ae6"
      },
      "source": [
        "# Interpretation of the matrix\n",
        "# diagonal column\n",
        "numbers = [13021,15933,27437]\n",
        "print(sum(numbers))\n",
        "# This means that the model can predict 56391 cases correctly."
      ],
      "execution_count": 86,
      "outputs": [
        {
          "output_type": "stream",
          "text": [
            "56391\n"
          ],
          "name": "stdout"
        }
      ]
    }
  ]
}